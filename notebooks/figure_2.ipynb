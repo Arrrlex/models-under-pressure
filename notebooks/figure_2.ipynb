{
 "cells": [
  {
   "cell_type": "code",
   "execution_count": 1,
   "metadata": {},
   "outputs": [
    {
     "name": "stderr",
     "output_type": "stream",
     "text": [
      "/Users/john/code/models-under-pressure/.venv/lib/python3.12/site-packages/tqdm/auto.py:21: TqdmWarning: IProgress not found. Please update jupyter and ipywidgets. See https://ipywidgets.readthedocs.io/en/stable/user_install.html\n",
      "  from .autonotebook import tqdm as notebook_tqdm\n"
     ]
    },
    {
     "name": "stdout",
     "output_type": "stream",
     "text": [
      "ProbeEvaluationResults(AUROC=[0.7171717171717171, 0.26315789473684215], datasets=['anthropic', 'toolace'], model_name='meta-llama/Llama-3.2-1B-Instruct', layer=11, variation_type='language', variation_value=None)\n"
     ]
    }
   ],
   "source": [
    "import json\n",
    "\n",
    "from models_under_pressure.config import RESULTS_DIR\n",
    "from models_under_pressure.interfaces.results import ProbeEvaluationResults\n",
    "from models_under_pressure.figures import plot_aurocs\n",
    "\n",
    "result_files = [\n",
    "    \"prompts_28_02_25_Llama-3.2-1B-Instruct_language_fig2.json\",\n",
    "    \"prompts_28_02_25_Llama-3.2-1B-Instruct_prompt_style_fig2.json\",\n",
    "    \"prompts_28_02_25_Llama-3.2-1B-Instruct_None_fig2.json\",\n",
    "]\n",
    "\n",
    "result_list = [\n",
    "    ProbeEvaluationResults.from_dict(json.load(open(RESULTS_DIR / f)))\n",
    "    for f in result_files\n",
    "]#print(result_list)\n",
    "print(result_list[0])"
   ]
  },
  {
   "cell_type": "code",
   "execution_count": null,
   "metadata": {},
   "outputs": [],
   "source": [
    "plot_aurocs(result_list)\n"
   ]
  },
  {
   "cell_type": "code",
   "execution_count": null,
   "metadata": {},
   "outputs": [],
   "source": []
  }
 ],
 "metadata": {
  "kernelspec": {
   "display_name": ".venv",
   "language": "python",
   "name": "python3"
  },
  "language_info": {
   "codemirror_mode": {
    "name": "ipython",
    "version": 3
   },
   "file_extension": ".py",
   "mimetype": "text/x-python",
   "name": "python",
   "nbconvert_exporter": "python",
   "pygments_lexer": "ipython3",
   "version": "3.12.8"
  }
 },
 "nbformat": 4,
 "nbformat_minor": 2
}
