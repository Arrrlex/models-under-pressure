{
 "cells": [
  {
   "cell_type": "code",
   "execution_count": null,
   "metadata": {},
   "outputs": [],
   "source": [
    "import json\n",
    "\n",
    "from models_under_pressure.config import RESULTS_DIR\n",
    "\n",
    "result_files = [\n",
    "    RESULTS_DIR / \"prompts_28_02_25_Llama-3.2-1B-Instruct_language_fig2.json\",\n",
    "    RESULTS_DIR / \"prompts_28_02_25_Llama-3.2-1B-Instruct_prompt_style_fig2.json\",\n",
    "    RESULTS_DIR / \"prompts_28_02_25_Llama-3.2-1B-Instruct_None_fig2.json\",\n",
    "]\n",
    "\n",
    "result_list = [json.load(\n",
    "    open(result_file, \"r\")\n",
    ") for result_file in result_files]\n",
    "print(result_list[0])"
   ]
  },
  {
   "cell_type": "code",
   "execution_count": 16,
   "metadata": {},
   "outputs": [
    {
     "name": "stdout",
     "output_type": "stream",
     "text": [
      "layer=11,variation_type=language\n"
     ]
    }
   ],
   "source": [
    "def get_run_name(results: dict) -> str:\n",
    "    \"\"\"Extract metadata from results and create a run name string.\n",
    "    \n",
    "    Args:\n",
    "        results: Dictionary containing model metadata\n",
    "        \n",
    "    Returns:\n",
    "        String containing layer and variation type info for the run\n",
    "    \"\"\"\n",
    "    #model_name = results[\"model_name\"].split(\"/\")[-1]\n",
    "    layer = results[\"layer\"]\n",
    "    variation_type = results[\"variation_type\"]\n",
    "    variation_value = results[\"variation_value\"]\n",
    "    \n",
    "    run_name = \"layer=\" + str(layer)\n",
    "    if variation_type is not None:\n",
    "        run_name += \",variation_type=\" + variation_type\n",
    "    if variation_value is not None:\n",
    "        run_name += \",variation_value=\" + variation_value\n",
    "    return run_name\n",
    "\n",
    "print(get_run_name(result_list[0]))\n"
   ]
  },
  {
   "cell_type": "code",
   "execution_count": null,
   "metadata": {},
   "outputs": [],
   "source": [
    "import matplotlib.pyplot as plt\n",
    "import numpy as np\n",
    "\n",
    "# Set width of bars and positions of the bars\n",
    "bar_width = 0.3\n",
    "x = np.arange(len(result_list[0][\"datasets\"]))\n",
    "\n",
    "plt.figure(figsize=(8, 6))\n",
    "\n",
    "# Create bars for each result\n",
    "for i, results in enumerate(result_list):\n",
    "    datasets = results[\"datasets\"]\n",
    "    auroc_scores = results[\"AUROC\"]\n",
    "    run_name = get_run_name(results)\n",
    "    \n",
    "    # Create offset bars\n",
    "    offset = i * bar_width\n",
    "    bars = plt.bar(x + offset, auroc_scores, bar_width, label=run_name)\n",
    "    \n",
    "    # Add value labels on top of bars\n",
    "    for bar in bars:\n",
    "        height = bar.get_height()\n",
    "        plt.text(bar.get_x() + bar.get_width()/2., height,\n",
    "                f'{height:.2f}',\n",
    "                ha='center', va='bottom')\n",
    "\n",
    "# Customize the plot\n",
    "plt.ylim(0, 1)  # AUROC ranges from 0 to 1\n",
    "plt.ylabel('AUROC Score')\n",
    "plt.title('Generalization to non-AIS datasets')\n",
    "\n",
    "# Center x-axis labels between grouped bars\n",
    "plt.xticks(x + bar_width/2, datasets)\n",
    "plt.legend()\n",
    "\n",
    "plt.show()\n"
   ]
  }
 ],
 "metadata": {
  "kernelspec": {
   "display_name": ".venv",
   "language": "python",
   "name": "python3"
  },
  "language_info": {
   "codemirror_mode": {
    "name": "ipython",
    "version": 3
   },
   "file_extension": ".py",
   "mimetype": "text/x-python",
   "name": "python",
   "nbconvert_exporter": "python",
   "pygments_lexer": "ipython3",
   "version": "3.12.8"
  }
 },
 "nbformat": 4,
 "nbformat_minor": 2
}
