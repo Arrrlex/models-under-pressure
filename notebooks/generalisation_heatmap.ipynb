{
 "cells": [
  {
   "cell_type": "code",
   "execution_count": null,
   "metadata": {},
   "outputs": [],
   "source": [
    "import json\n",
    "\n",
    "from models_under_pressure.config import HEATMAPS_DIR\n",
    "from models_under_pressure.interfaces.results import HeatmapRunResults\n",
    "from models_under_pressure.figures import generate_heatmap_plot\n",
    "\n",
    "heatmap_run_id = \"0UAqFzWs\"\n",
    "\n",
    "result_dicts = [json.loads(line) for line in open(HEATMAPS_DIR / f\"results_{heatmap_run_id}.jsonl\").readlines()]\n",
    "\n",
    "if len(result_dicts) != 1:\n",
    "    raise ValueError(f\"Expected 1 result, got {len(result_dicts)}\")\n",
    "\n",
    "result_dict = result_dicts[0]\n",
    "\n",
    "result = HeatmapRunResults.model_validate(result_dict)\n"
   ]
  },
  {
   "cell_type": "code",
   "execution_count": null,
   "metadata": {},
   "outputs": [],
   "source": [
    "for variation_type, heatmap in result.heatmaps().items():\n",
    "    generate_heatmap_plot(result.config.id, variation_type, heatmap)"
   ]
  },
  {
   "cell_type": "code",
   "execution_count": null,
   "metadata": {},
   "outputs": [],
   "source": [
    "import pandas as pd\n",
    "df = pd.DataFrame([r.model_dump() for r in result.results])"
   ]
  },
  {
   "cell_type": "code",
   "execution_count": null,
   "metadata": {},
   "outputs": [],
   "source": [
    "train_data = pd.DataFrame([json.loads(line) for line in open(\"../data/training/prompts_13_03_25_gpt-4o_filtered.jsonl\")])"
   ]
  },
  {
   "cell_type": "code",
   "execution_count": null,
   "metadata": {},
   "outputs": [],
   "source": [
    "train_data[train_data.split == \"test\"].language.value_counts()"
   ]
  },
  {
   "cell_type": "code",
   "execution_count": null,
   "metadata": {},
   "outputs": [],
   "source": [
    "train_data.split.value_counts()"
   ]
  },
  {
   "cell_type": "code",
   "execution_count": null,
   "metadata": {},
   "outputs": [],
   "source": [
    "train_data.value_counts(\"language\") / len(train_data)"
   ]
  },
  {
   "cell_type": "code",
   "execution_count": null,
   "metadata": {},
   "outputs": [],
   "source": []
  }
 ],
 "metadata": {
  "kernelspec": {
   "display_name": ".venv",
   "language": "python",
   "name": "python3"
  },
  "language_info": {
   "codemirror_mode": {
    "name": "ipython",
    "version": 3
   },
   "file_extension": ".py",
   "mimetype": "text/x-python",
   "name": "python",
   "nbconvert_exporter": "python",
   "pygments_lexer": "ipython3",
   "version": "3.12.9"
  }
 },
 "nbformat": 4,
 "nbformat_minor": 2
}
