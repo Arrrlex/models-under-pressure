{
 "cells": [
  {
   "cell_type": "code",
   "execution_count": null,
   "metadata": {},
   "outputs": [],
   "source": [
    "import json\n",
    "\n",
    "from models_under_pressure.config import HEATMAPS_DIR\n",
    "from models_under_pressure.interfaces.results import HeatmapRunResults\n",
    "from models_under_pressure.figures import generate_heatmap_plot\n",
    "\n",
    "heatmap_run_id = \"0UAqFzWs\"\n",
    "\n",
    "result_dicts = [\n",
    "    json.loads(line)\n",
    "    for line in open(HEATMAPS_DIR / f\"results_{heatmap_run_id}.jsonl\").readlines()\n",
    "]\n",
    "\n",
    "if len(result_dicts) != 1:\n",
    "    raise ValueError(f\"Expected 1 result, got {len(result_dicts)}\")\n",
    "\n",
    "result_dict = result_dicts[0]\n",
    "\n",
    "result = HeatmapRunResults.model_validate(result_dict)\n"
   ]
  },
  {
   "cell_type": "code",
   "execution_count": null,
   "metadata": {},
   "outputs": [],
   "source": [
    "for variation_type, heatmap in result.heatmaps().items():\n",
    "    generate_heatmap_plot(result.config.id, variation_type, heatmap, mode=\"paper\")"
   ]
  },
  {
   "cell_type": "code",
   "execution_count": null,
   "metadata": {},
   "outputs": [],
   "source": [
    "from pathlib import Path\n",
    "\n",
    "evals_dir = Path(\"../data/evals\")\n",
    "\n",
    "# First print files in dev folder\n",
    "dev_dir = evals_dir / \"dev\"\n",
    "for file_pattern in [\"*.jsonl\", \"*.csv\"]:\n",
    "    for file_path in dev_dir.glob(file_pattern):\n",
    "        # Get relative path from data/evals\n",
    "        rel_path = file_path.relative_to(evals_dir)\n",
    "\n",
    "        # Count lines in file, accounting for CSV header\n",
    "        with file_path.open(encoding=\"utf-8\") as f:\n",
    "            if file_path.suffix == \".csv\":\n",
    "                # Subtract 1 for header row\n",
    "                num_lines = sum(1 for _ in f) - 1\n",
    "            else:\n",
    "                num_lines = sum(1 for _ in f)\n",
    "\n",
    "        print(f\"{rel_path}: {num_lines} samples\")\n",
    "\n",
    "# Then print files in test folder\n",
    "test_dir = evals_dir / \"test\"\n",
    "for file_pattern in [\"*.jsonl\", \"*.csv\"]:\n",
    "    for file_path in test_dir.glob(file_pattern):\n",
    "        # Get relative path from data/evals\n",
    "        rel_path = file_path.relative_to(evals_dir)\n",
    "\n",
    "        # Count lines in file, accounting for CSV header\n",
    "        with file_path.open(encoding=\"utf-8\") as f:\n",
    "            if file_path.suffix == \".csv\":\n",
    "                # Subtract 1 for header row\n",
    "                num_lines = sum(1 for _ in f) - 1\n",
    "            else:\n",
    "                num_lines = sum(1 for _ in f)\n",
    "\n",
    "        print(f\"{rel_path}: {num_lines} samples\")"
   ]
  },
  {
   "cell_type": "code",
   "execution_count": null,
   "metadata": {},
   "outputs": [],
   "source": [
    "aya_files = Path(\"../data/evals/test/language/\").glob(\"*_aya_redteaming.jsonl\")\n",
    "\n",
    "total_aya_samples = sum(sum(1 for _ in open(f)) for f in aya_files)\n",
    "print(f\"Total Aya samples: {total_aya_samples}\")\n"
   ]
  },
  {
   "cell_type": "code",
   "execution_count": null,
   "metadata": {},
   "outputs": [],
   "source": []
  }
 ],
 "metadata": {
  "kernelspec": {
   "display_name": ".venv",
   "language": "python",
   "name": "python3"
  },
  "language_info": {
   "codemirror_mode": {
    "name": "ipython",
    "version": 3
   },
   "file_extension": ".py",
   "mimetype": "text/x-python",
   "name": "python",
   "nbconvert_exporter": "python",
   "pygments_lexer": "ipython3",
   "version": "3.12.6"
  }
 },
 "nbformat": 4,
 "nbformat_minor": 2
}
