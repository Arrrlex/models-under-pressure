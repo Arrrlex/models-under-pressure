{
 "cells": [
  {
   "cell_type": "code",
   "execution_count": 4,
   "metadata": {},
   "outputs": [],
   "source": [
    "import json\n",
    "import pandas as pd\n",
    "import matplotlib.pyplot as plt\n",
    "import seaborn as sns\n",
    "\n",
    "\n",
    "from models_under_pressure.scripts.train_probes import RESULTS_DIR\n",
    "\n",
    "result_files = [\n",
    "    f\"generated_heatmap_{variation_type}.json\" for variation_type in [\"prompt_style\", \"tone\", \"language\"]\n",
    "]\n",
    "result_list = [\n",
    "    json.load(open(RESULTS_DIR / f))\n",
    "    for f in result_files\n",
    "]\n",
    "\n",
    "#print(result_list)\n",
    "\n",
    "def generate_heatmap_plot(result: dict):\n",
    "    # Create dataframe from performances\n",
    "    for layer in result[\"layers\"]:\n",
    "        performances = result[\"performances\"][str(layer)]\n",
    "        variation_values = result[\"variation_values\"]\n",
    "        \n",
    "        # Create dataframe with rows=train variations, cols=test variations\n",
    "        df = pd.DataFrame(\n",
    "            performances,\n",
    "            index=variation_values,\n",
    "            columns=variation_values\n",
    "        )\n",
    "        \n",
    "        # Create heatmap\n",
    "        plt.figure(figsize=(8, 6))\n",
    "        sns.heatmap(\n",
    "            df,\n",
    "            annot=True,\n",
    "            fmt=\".3f\",\n",
    "            cmap=\"RdBu\",\n",
    "            vmin=0,\n",
    "            vmax=1\n",
    "        )\n",
    "\n",
    "        plt.title(f\"Probe Generalization Across Variations, Layer {layer}\")\n",
    "        plt.xlabel(\"Test Variation\") \n",
    "        plt.ylabel(\"Train Variation\")\n",
    "        plt.xticks(rotation=45, ha=\"right\")\n",
    "        plt.tight_layout()\n",
    "\n",
    "        # Save plot\n",
    "        plots_dir = RESULTS_DIR.parent / \"plots\"\n",
    "        plots_dir.mkdir(exist_ok=True)\n",
    "        plt.savefig(plots_dir / f\"probe_generalisation_heatmap_layer_{layer}.png\")\n",
    "        plt.show()\n"
   ]
  },
  {
   "cell_type": "code",
   "execution_count": null,
   "metadata": {},
   "outputs": [],
   "source": [
    "\n",
    "generate_heatmap_plot(result_list[0])\n",
    "\n"
   ]
  },
  {
   "cell_type": "code",
   "execution_count": null,
   "metadata": {},
   "outputs": [],
   "source": [
    "generate_heatmap_plot(result_list[1])"
   ]
  },
  {
   "cell_type": "code",
   "execution_count": null,
   "metadata": {},
   "outputs": [],
   "source": [
    "generate_heatmap_plot(result_list[2])"
   ]
  }
 ],
 "metadata": {
  "kernelspec": {
   "display_name": ".venv",
   "language": "python",
   "name": "python3"
  },
  "language_info": {
   "codemirror_mode": {
    "name": "ipython",
    "version": 3
   },
   "file_extension": ".py",
   "mimetype": "text/x-python",
   "name": "python",
   "nbconvert_exporter": "python",
   "pygments_lexer": "ipython3",
   "version": "3.12.8"
  }
 },
 "nbformat": 4,
 "nbformat_minor": 2
}
