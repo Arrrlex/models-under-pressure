{
 "cells": [
  {
   "cell_type": "code",
   "execution_count": null,
   "metadata": {},
   "outputs": [],
   "source": [
    "import json\n",
    "\n",
    "from models_under_pressure.config import HEATMAPS_DIR\n",
    "from models_under_pressure.interfaces.results import HeatmapRunResults\n",
    "from models_under_pressure.figures import generate_heatmap_plot\n",
    "\n",
    "result_dicts = [\n",
    "    json.loads(line)\n",
    "    for line in open(HEATMAPS_DIR / \"results_gpj46lQh.jsonl\").readlines()\n",
    "]\n",
    "# result_dicts = [\n",
    "#    json.loads(line)\n",
    "#    for line in open(HEATMAPS_DIR / \"heatmap_results.jsonl\").readlines()\n",
    "# ]\n",
    "\n",
    "if len(result_dicts) != 1:\n",
    "    raise ValueError(f\"Expected 1 result, got {len(result_dicts)}\")\n",
    "\n",
    "result_dict = result_dicts[0]\n",
    "\n",
    "result = HeatmapRunResults.model_validate(result_dict)\n"
   ]
  },
  {
   "cell_type": "code",
   "execution_count": null,
   "metadata": {},
   "outputs": [],
   "source": [
    "# variation_types = [variation_type for variation_type in result.heatmaps().keys()]\n",
    "variation_types = [\"prompt_style\", \"length\", \"language\"]\n",
    "heatmaps = [result.heatmaps()[variation_type] for variation_type in variation_types]\n",
    "generate_heatmap_plot(result.config.id, variation_types, heatmaps, mode=\"paper\")"
   ]
  },
  {
   "cell_type": "code",
   "execution_count": null,
   "metadata": {},
   "outputs": [],
   "source": []
  }
 ],
 "metadata": {
  "kernelspec": {
   "display_name": ".venv",
   "language": "python",
   "name": "python3"
  },
  "language_info": {
   "codemirror_mode": {
    "name": "ipython",
    "version": 3
   },
   "file_extension": ".py",
   "mimetype": "text/x-python",
   "name": "python",
   "nbconvert_exporter": "python",
   "pygments_lexer": "ipython3",
   "version": "3.12.6"
  }
 },
 "nbformat": 4,
 "nbformat_minor": 2
}
