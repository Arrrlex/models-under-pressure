{
 "cells": [
  {
   "cell_type": "markdown",
   "metadata": {},
   "source": [
    "## Probe Generalisation MVP\n",
    "\n",
    "### Goals:\n",
    "- [x] Choose a layer to train linear probes at\n",
    "  - For now, we're doing layer 5, since that's the earliest layer that got perfect accuracy in the initial probe exploration\n",
    "- [ ] For each category in the 19th Feb dataset, train a linear probe\n",
    "- [ ] Generate a heatmap plot, where the (x, y)-th entry is the accuracy of the probe trained on x data, predicted on y data\n",
    "- [ ] Understand GPU capacity - can we do inference with 70B?\n",
    "\n",
    "### Timeline:\n",
    "- 19/02/25 and 20/02/25"
   ]
  },
  {
   "cell_type": "code",
   "execution_count": 3,
   "metadata": {},
   "outputs": [
    {
     "name": "stderr",
     "output_type": "stream",
     "text": [
      "/home/ucabwjn/models-under-pressure/.venv/lib64/python3.12/site-packages/tqdm/auto.py:21: TqdmWarning: IProgress not found. Please update jupyter and ipywidgets. See https://ipywidgets.readthedocs.io/en/stable/user_install.html\n",
      "  from .autonotebook import tqdm as notebook_tqdm\n"
     ]
    }
   ],
   "source": [
    "# Imports\n",
    "from models_under_pressure.probes import (\n",
    "    create_activations,\n",
    "    train_single_layer,\n",
    "    compute_accuracy,\n",
    ")\n",
    "\n",
    "from transformers import AutoTokenizer, AutoModelForCausalLM\n",
    "import os\n",
    "import pandas as pd\n",
    "from pathlib import Path\n",
    "\n",
    "project_root = Path(\"..\").resolve()"
   ]
  },
  {
   "cell_type": "code",
   "execution_count": 4,
   "metadata": {},
   "outputs": [],
   "source": [
    "# Loading dataset\n",
    "df = pd.read_csv(project_root / \"temp_data/dataset_19_feb.csv\")\n",
    "\n",
    "# Split data by top category\n",
    "categories = {}\n",
    "for category in df[\"top_category\"].unique():\n",
    "    category_df = df[df[\"top_category\"] == category]\n",
    "    categories[category] = {\n",
    "        \"X\": category_df[\"prompt_text\"].tolist(),\n",
    "        \"y\": category_df[\"high_stakes\"].tolist(),\n",
    "    }\n"
   ]
  },
  {
   "cell_type": "code",
   "execution_count": 5,
   "metadata": {},
   "outputs": [
    {
     "name": "stdout",
     "output_type": "stream",
     "text": [
      "Layer: 0, Activation Shape: torch.Size([100, 33, 2048])\n",
      "Layer: 1, Activation Shape: torch.Size([100, 33, 2048])\n",
      "Layer: 2, Activation Shape: torch.Size([100, 33, 2048])\n",
      "Layer: 3, Activation Shape: torch.Size([100, 33, 2048])\n",
      "Layer: 4, Activation Shape: torch.Size([100, 33, 2048])\n",
      "Layer: 5, Activation Shape: torch.Size([100, 33, 2048])\n",
      "Layer: 6, Activation Shape: torch.Size([100, 33, 2048])\n",
      "Layer: 7, Activation Shape: torch.Size([100, 33, 2048])\n",
      "Layer: 8, Activation Shape: torch.Size([100, 33, 2048])\n",
      "Layer: 9, Activation Shape: torch.Size([100, 33, 2048])\n",
      "Layer: 10, Activation Shape: torch.Size([100, 33, 2048])\n",
      "Layer: 11, Activation Shape: torch.Size([100, 33, 2048])\n",
      "Layer: 12, Activation Shape: torch.Size([100, 33, 2048])\n",
      "Layer: 13, Activation Shape: torch.Size([100, 33, 2048])\n",
      "Layer: 14, Activation Shape: torch.Size([100, 33, 2048])\n",
      "Layer: 15, Activation Shape: torch.Size([100, 33, 2048])\n",
      "All activations shape: torch.Size([16, 100, 33, 2048])\n",
      "Layer: 0, Activation Shape: torch.Size([100, 34, 2048])\n",
      "Layer: 1, Activation Shape: torch.Size([100, 34, 2048])\n",
      "Layer: 2, Activation Shape: torch.Size([100, 34, 2048])\n",
      "Layer: 3, Activation Shape: torch.Size([100, 34, 2048])\n",
      "Layer: 4, Activation Shape: torch.Size([100, 34, 2048])\n",
      "Layer: 5, Activation Shape: torch.Size([100, 34, 2048])\n",
      "Layer: 6, Activation Shape: torch.Size([100, 34, 2048])\n",
      "Layer: 7, Activation Shape: torch.Size([100, 34, 2048])\n",
      "Layer: 8, Activation Shape: torch.Size([100, 34, 2048])\n",
      "Layer: 9, Activation Shape: torch.Size([100, 34, 2048])\n",
      "Layer: 10, Activation Shape: torch.Size([100, 34, 2048])\n",
      "Layer: 11, Activation Shape: torch.Size([100, 34, 2048])\n",
      "Layer: 12, Activation Shape: torch.Size([100, 34, 2048])\n",
      "Layer: 13, Activation Shape: torch.Size([100, 34, 2048])\n",
      "Layer: 14, Activation Shape: torch.Size([100, 34, 2048])\n",
      "Layer: 15, Activation Shape: torch.Size([100, 34, 2048])\n",
      "All activations shape: torch.Size([16, 100, 34, 2048])\n",
      "Layer: 0, Activation Shape: torch.Size([100, 31, 2048])\n",
      "Layer: 1, Activation Shape: torch.Size([100, 31, 2048])\n",
      "Layer: 2, Activation Shape: torch.Size([100, 31, 2048])\n",
      "Layer: 3, Activation Shape: torch.Size([100, 31, 2048])\n",
      "Layer: 4, Activation Shape: torch.Size([100, 31, 2048])\n",
      "Layer: 5, Activation Shape: torch.Size([100, 31, 2048])\n",
      "Layer: 6, Activation Shape: torch.Size([100, 31, 2048])\n",
      "Layer: 7, Activation Shape: torch.Size([100, 31, 2048])\n",
      "Layer: 8, Activation Shape: torch.Size([100, 31, 2048])\n",
      "Layer: 9, Activation Shape: torch.Size([100, 31, 2048])\n",
      "Layer: 10, Activation Shape: torch.Size([100, 31, 2048])\n",
      "Layer: 11, Activation Shape: torch.Size([100, 31, 2048])\n",
      "Layer: 12, Activation Shape: torch.Size([100, 31, 2048])\n",
      "Layer: 13, Activation Shape: torch.Size([100, 31, 2048])\n",
      "Layer: 14, Activation Shape: torch.Size([100, 31, 2048])\n",
      "Layer: 15, Activation Shape: torch.Size([100, 31, 2048])\n",
      "All activations shape: torch.Size([16, 100, 31, 2048])\n",
      "Layer: 0, Activation Shape: torch.Size([100, 36, 2048])\n",
      "Layer: 1, Activation Shape: torch.Size([100, 36, 2048])\n",
      "Layer: 2, Activation Shape: torch.Size([100, 36, 2048])\n",
      "Layer: 3, Activation Shape: torch.Size([100, 36, 2048])\n",
      "Layer: 4, Activation Shape: torch.Size([100, 36, 2048])\n",
      "Layer: 5, Activation Shape: torch.Size([100, 36, 2048])\n",
      "Layer: 6, Activation Shape: torch.Size([100, 36, 2048])\n",
      "Layer: 7, Activation Shape: torch.Size([100, 36, 2048])\n",
      "Layer: 8, Activation Shape: torch.Size([100, 36, 2048])\n",
      "Layer: 9, Activation Shape: torch.Size([100, 36, 2048])\n",
      "Layer: 10, Activation Shape: torch.Size([100, 36, 2048])\n",
      "Layer: 11, Activation Shape: torch.Size([100, 36, 2048])\n",
      "Layer: 12, Activation Shape: torch.Size([100, 36, 2048])\n",
      "Layer: 13, Activation Shape: torch.Size([100, 36, 2048])\n",
      "Layer: 14, Activation Shape: torch.Size([100, 36, 2048])\n",
      "Layer: 15, Activation Shape: torch.Size([100, 36, 2048])\n",
      "All activations shape: torch.Size([16, 100, 36, 2048])\n"
     ]
    }
   ],
   "source": [
    "# Loading model\n",
    "\n",
    "os.environ[\"TOKENIZERS_PARALLELISM\"] = \"false\"\n",
    "model_name = \"meta-llama/Llama-3.2-1B-Instruct\"\n",
    "\n",
    "# device = 'cuda:1'\n",
    "device = \"cpu\"\n",
    "\n",
    "# Load the LLaMA-3-1B model and tokenizer\n",
    "model = AutoModelForCausalLM.from_pretrained(model_name).to(device)\n",
    "tokenizer = AutoTokenizer.from_pretrained(model_name)\n",
    "\n",
    "if tokenizer.pad_token_id is None:\n",
    "    tokenizer.pad_token_id = tokenizer.eos_token_id\n",
    "\n",
    "# Run the model on each category's data, recording the activations\n",
    "\n",
    "for category in categories:\n",
    "    categories[category][\"acts\"] = create_activations(\n",
    "        model=model, tokenizer=tokenizer, text=categories[category][\"X\"], device=device\n",
    "    )"
   ]
  },
  {
   "cell_type": "code",
   "execution_count": 6,
   "metadata": {},
   "outputs": [],
   "source": [
    "model_params = {\"C\": 1, \"random_state\": 42, \"fit_intercept\": False}\n",
    "\n",
    "# For each category, train a linear probe on the activations for layer 5:\n",
    "for category in categories:\n",
    "    categories[category][\"probe\"] = train_single_layer(\n",
    "        categories[category][\"acts\"][5], categories[category][\"y\"], model_params\n",
    "    )\n",
    "\n",
    "for i, category1 in enumerate(categories):\n",
    "        categories[category1][\"accuracy\"] = [compute_accuracy(\n",
    "            categories[category1][\"probe\"], categories[category2][\"acts\"][5], categories[category2][\"y\"]\n",
    "        ) for j, category2 in enumerate(categories)]"
   ]
  },
  {
   "cell_type": "code",
   "execution_count": 8,
   "metadata": {},
   "outputs": [
    {
     "data": {
      "text/html": [
       "<div>\n",
       "<style scoped>\n",
       "    .dataframe tbody tr th:only-of-type {\n",
       "        vertical-align: middle;\n",
       "    }\n",
       "\n",
       "    .dataframe tbody tr th {\n",
       "        vertical-align: top;\n",
       "    }\n",
       "\n",
       "    .dataframe thead th {\n",
       "        text-align: right;\n",
       "    }\n",
       "</style>\n",
       "<table border=\"1\" class=\"dataframe\">\n",
       "  <thead>\n",
       "    <tr style=\"text-align: right;\">\n",
       "      <th></th>\n",
       "      <th>Medical</th>\n",
       "      <th>Financial</th>\n",
       "      <th>Misinformation</th>\n",
       "      <th>Regulatory and compliance</th>\n",
       "    </tr>\n",
       "  </thead>\n",
       "  <tbody>\n",
       "    <tr>\n",
       "      <th>0</th>\n",
       "      <td>1.00</td>\n",
       "      <td>1.00</td>\n",
       "      <td>1.00</td>\n",
       "      <td>0.91</td>\n",
       "    </tr>\n",
       "    <tr>\n",
       "      <th>1</th>\n",
       "      <td>0.98</td>\n",
       "      <td>1.00</td>\n",
       "      <td>0.95</td>\n",
       "      <td>0.88</td>\n",
       "    </tr>\n",
       "    <tr>\n",
       "      <th>2</th>\n",
       "      <td>0.97</td>\n",
       "      <td>0.96</td>\n",
       "      <td>1.00</td>\n",
       "      <td>0.68</td>\n",
       "    </tr>\n",
       "    <tr>\n",
       "      <th>3</th>\n",
       "      <td>1.00</td>\n",
       "      <td>1.00</td>\n",
       "      <td>1.00</td>\n",
       "      <td>1.00</td>\n",
       "    </tr>\n",
       "  </tbody>\n",
       "</table>\n",
       "</div>"
      ],
      "text/plain": [
       "   Medical  Financial  Misinformation  Regulatory and compliance\n",
       "0     1.00       1.00            1.00                       0.91\n",
       "1     0.98       1.00            0.95                       0.88\n",
       "2     0.97       0.96            1.00                       0.68\n",
       "3     1.00       1.00            1.00                       1.00"
      ]
     },
     "execution_count": 8,
     "metadata": {},
     "output_type": "execute_result"
    }
   ],
   "source": [
    "accuracy_matrix"
   ]
  },
  {
   "cell_type": "markdown",
   "metadata": {},
   "source": [
    "Notes:\n",
    "\n",
    "- We need to fix y axis labels and make it clear which axis is probes and which is dataset\n",
    "- We need a better colour scheme: red should be bad!\n",
    "- Clearly communicate the experimental procedure\n",
    "- Put all of this in a doc with some time before the meeting tomorrow (20th Feb)\n"
   ]
  },
  {
   "cell_type": "code",
   "execution_count": 12,
   "metadata": {},
   "outputs": [
    {
     "data": {
      "image/png": "[encoded data removed]",
      "text/plain": [
       "<Figure size 640x480 with 2 Axes>"
      ]
     },
     "metadata": {},
     "output_type": "display_data"
    }
   ],
   "source": [
    "# Plot the categories[category]['accuracy'] values in a heatmap\n",
    "import seaborn as sns\n",
    "import pandas as pd\n",
    "import matplotlib.pyplot as plt\n",
    "\n",
    "accuracy_matrix = pd.DataFrame(\n",
    "    {category: categories[category][\"accuracy\"] for category in categories}\n",
    ")\n",
    "\n",
    "sns.heatmap(accuracy_matrix, annot=True, cmap=\"coolwarm\")\n",
    "plt.xlabel('Probe')\n",
    "plt.ylabel('Category')\n",
    "plt.show()\n"
   ]
  },
  {
   "cell_type": "code",
   "execution_count": null,
   "metadata": {},
   "outputs": [],
   "source": []
  }
 ],
 "metadata": {
  "kernelspec": {
   "display_name": ".venv",
   "language": "python",
   "name": "python3"
  },
  "language_info": {
   "codemirror_mode": {
    "name": "ipython",
    "version": 3
   },
   "file_extension": ".py",
   "mimetype": "text/x-python",
   "name": "python",
   "nbconvert_exporter": "python",
   "pygments_lexer": "ipython3",
   "version": "3.12.5"
  }
 },
 "nbformat": 4,
 "nbformat_minor": 2
}
