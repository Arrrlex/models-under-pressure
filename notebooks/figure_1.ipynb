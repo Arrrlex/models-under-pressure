{
 "cells": [
  {
   "cell_type": "code",
   "execution_count": null,
   "metadata": {},
   "outputs": [],
   "source": [
    "import json\n",
    "\n",
    "from models_under_pressure.config import OUTPUT_DIR\n",
    "from models_under_pressure.interfaces.results import ProbeEvaluationResults\n",
    "from models_under_pressure.figures import plot_aurocs\n",
    "\n",
    "result_files = [\n",
    "    f for f in OUTPUT_DIR.glob(\"*_fig1.json\")\n",
    "]\n",
    "\n",
    "result_list = [\n",
    "    ProbeEvaluationResults.from_dict(json.load(open(OUTPUT_DIR / f)))\n",
    "    for f in result_files\n",
    "]  # print(result_list)\n",
    "print(result_list[0])"
   ]
  },
  {
   "cell_type": "code",
   "execution_count": null,
   "metadata": {},
   "outputs": [],
   "source": [
    "plot_aurocs(result_list)\n"
   ]
  },
  {
   "cell_type": "code",
   "execution_count": null,
   "metadata": {},
   "outputs": [],
   "source": []
  }
 ],
 "metadata": {
  "kernelspec": {
   "display_name": ".venv",
   "language": "python",
   "name": "python3"
  },
  "language_info": {
   "codemirror_mode": {
    "name": "ipython",
    "version": 3
   },
   "file_extension": ".py",
   "mimetype": "text/x-python",
   "name": "python",
   "nbconvert_exporter": "python",
   "pygments_lexer": "ipython3",
   "version": "3.12.8"
  }
 },
 "nbformat": 4,
 "nbformat_minor": 2
}
