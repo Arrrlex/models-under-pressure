{
 "cells": [
  {
   "cell_type": "code",
   "execution_count": null,
   "metadata": {},
   "outputs": [],
   "source": [
    "import pandas as pd\n",
    "import spacy\n",
    "from spacy.lang.en.stop_words import STOP_WORDS\n",
    "import re"
   ]
  },
  {
   "cell_type": "code",
   "execution_count": null,
   "metadata": {},
   "outputs": [],
   "source": [
    "# Download and read the medical transcriptions dataset from Kaggle\n",
    "# Note: Requires kaggle API credentials to be set up\n",
    "!kaggle datasets download -d tboyle10/medicaltranscriptions -p temp_data\n",
    "!unzip temp_data/medicaltranscriptions.zip -d temp_data\n",
    "\n",
    "# Read the CSV file\n",
    "medical_df = pd.read_csv('temp_data/mtsamples.csv')\n",
    "print(f\"Loaded medical transcriptions dataset with {len(medical_df)} records\")\n"
   ]
  },
  {
   "cell_type": "code",
   "execution_count": null,
   "metadata": {},
   "outputs": [],
   "source": [
    "# Clean the medical transcriptions dataset:\n",
    "nlp = spacy.load('en_core_web_sm')\n",
    "\n",
    "def clean_text(text:str) -> str:\n",
    "    text = re.sub(r'\\d+', '', text)\n",
    "    text = re.sub(r'\\s+', ' ', text).strip()\n",
    "    doc = nlp(text)\n",
    "    text = ' '.join(token.lemma_ for token in doc if token.text.lower() not in STOP_WORDS and token.is_alpha)\n",
    "    return text\n",
    "\n",
    "medical_df = medical_df[~medical_df['transcription'].isnull()]\n",
    "medical_df['cleaned_transcription'] = medical_df['transcription'].apply(clean_text)"
   ]
  },
  {
   "cell_type": "code",
   "execution_count": null,
   "metadata": {},
   "outputs": [],
   "source": [
    "df_out = medical_df[~medical_df['transcription'].isnull()]\n",
    "print(df_out.shape)\n",
    "df_out.head()"
   ]
  },
  {
   "cell_type": "code",
   "execution_count": null,
   "metadata": {},
   "outputs": [],
   "source": [
    "# Remove any rows where there is a missing column\n",
    "df_out = df_out.dropna(axis=0)\n",
    "print(df_out.shape)\n",
    "df_out.head()\n"
   ]
  },
  {
   "cell_type": "code",
   "execution_count": null,
   "metadata": {},
   "outputs": [],
   "source": [
    "import os\n",
    "\n",
    "if not os.path.exists('../temp_data/medical_transcriptions'):\n",
    "    os.makedirs('../temp_data/medical_transcriptions')\n",
    "\n",
    "df_out.iloc[:300].to_csv('../temp_data/medical_transcriptions/mt_samples_300.csv', index=False)"
   ]
  },
  {
   "cell_type": "code",
   "execution_count": null,
   "metadata": {},
   "outputs": [],
   "source": [
    "pd.set_option('display.max_rows', 20)\n",
    "df_out.head(20)"
   ]
  },
  {
   "cell_type": "markdown",
   "metadata": {},
   "source": [
    "## Analysis of Labelled Dataset\n",
    "\n",
    "We now analyse the labelled medication transcriptions dataset. Potential confounding factors in this dataset:\n",
    "\n",
    "- The label may depend upon the descriptiveness of the doctor writing the transcription e.g. some doctors may write the full risks of a standard procedure whilst others might keep it the same"
   ]
  },
  {
   "cell_type": "code",
   "execution_count": null,
   "metadata": {},
   "outputs": [],
   "source": [
    "import matplotlib.pyplot as plt\n",
    "import pandas as pd\n",
    "\n",
    "# Load the labelled dataset\n",
    "labelled_df = pd.read_csv('../temp_data/medical_transcriptions/mt_samples_300_labeled.csv')\n",
    "\n",
    "# Display the first few rows of the dataset\n",
    "labelled_df.head()"
   ]
  },
  {
   "cell_type": "code",
   "execution_count": null,
   "metadata": {},
   "outputs": [],
   "source": [
    "plt.bar(labelled_df['labels'].value_counts().index, labelled_df['labels'].value_counts().values)\n",
    "plt.title('Distribution of High, Low and Ambiguous Stakes in Labelled Dataset')"
   ]
  }
 ],
 "metadata": {
  "kernelspec": {
   "display_name": ".venv",
   "language": "python",
   "name": "python3"
  },
  "language_info": {
   "codemirror_mode": {
    "name": "ipython",
    "version": 3
   },
   "file_extension": ".py",
   "mimetype": "text/x-python",
   "name": "python",
   "nbconvert_exporter": "python",
   "pygments_lexer": "ipython3",
   "version": "3.12.5"
  }
 },
 "nbformat": 4,
 "nbformat_minor": 2
}
