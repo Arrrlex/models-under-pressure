{
 "cells": [
  {
   "cell_type": "code",
   "execution_count": null,
   "metadata": {},
   "outputs": [],
   "source": [
    "import json"
   ]
  },
  {
   "cell_type": "code",
   "execution_count": null,
   "metadata": {},
   "outputs": [],
   "source": [
    "data = json.load(\n",
    "    open(\n",
    "        \"../data/results/choose_best_layer_via_cross_validation/prompts_13_03_25_gpt-4o_Llama-3.3-70B-Instruct_layer_choice.json\"\n",
    "    )\n",
    ")"
   ]
  },
  {
   "cell_type": "code",
   "execution_count": null,
   "metadata": {},
   "outputs": [],
   "source": [
    "import matplotlib.pyplot as plt\n",
    "\n",
    "# Convert string keys to integers and sort by layer number\n",
    "layers = [(int(k), v) for k, v in data[\"layer_mean_accuracies\"].items()]\n",
    "layers.sort()  # Sort by layer number\n",
    "\n",
    "# Separate into x and y values\n",
    "x_values = [x for x, _ in layers]\n",
    "y_values = [y for _, y in layers]\n",
    "\n",
    "# Create the plot\n",
    "plt.figure(figsize=(12, 6))\n",
    "plt.plot(x_values, y_values, marker=\"o\")\n",
    "plt.grid(True)\n",
    "plt.xlabel(\"Layer\")\n",
    "plt.ylabel(\"Mean Accuracy\")\n",
    "plt.title(\"Layer Mean Accuracies\")\n",
    "\n",
    "# Show the plot\n",
    "plt.show()"
   ]
  }
 ],
 "metadata": {
  "kernelspec": {
   "display_name": ".venv",
   "language": "python",
   "name": "python3"
  },
  "language_info": {
   "codemirror_mode": {
    "name": "ipython",
    "version": 3
   },
   "file_extension": ".py",
   "mimetype": "text/x-python",
   "name": "python",
   "nbconvert_exporter": "python",
   "pygments_lexer": "ipython3",
   "version": "3.12.6"
  }
 },
 "nbformat": 4,
 "nbformat_minor": 2
}
