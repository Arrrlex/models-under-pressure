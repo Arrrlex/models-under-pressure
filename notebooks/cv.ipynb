{
 "cells": [
  {
   "cell_type": "code",
   "execution_count": null,
   "metadata": {},
   "outputs": [],
   "source": [
    "import json\n",
    "import matplotlib.pyplot as plt\n"
   ]
  },
  {
   "cell_type": "code",
   "execution_count": null,
   "metadata": {},
   "outputs": [],
   "source": [
    "results = [\n",
    "    json.loads(line)\n",
    "    for line in open(\n",
    "        \"../data/results/choose_best_layer_via_cross_validation/cross_validation_results.jsonl\"\n",
    "    )\n",
    "]"
   ]
  },
  {
   "cell_type": "code",
   "execution_count": null,
   "metadata": {},
   "outputs": [],
   "source": [
    "import seaborn as sns\n",
    "\n",
    "# Set the style to darkgrid\n",
    "sns.set_style(\"darkgrid\")\n",
    "\n",
    "\n",
    "def plot_layer_mean_accuracies(result_dict: dict):\n",
    "    # Convert string keys to integers and sort by layer number\n",
    "    layers = [\n",
    "        (int(k), v) for k, v in result_dict[\"results\"][\"layer_mean_accuracies\"].items()\n",
    "    ]\n",
    "    layers.sort()  # Sort by layer number\n",
    "\n",
    "    # Separate into x and y values\n",
    "    x_values = [x for x, _ in layers]\n",
    "    y_values = [y for _, y in layers]\n",
    "\n",
    "    # Create the plot\n",
    "    plt.figure(figsize=(12, 6))\n",
    "    sns.lineplot(x=x_values, y=y_values)\n",
    "    plt.xlabel(\"Layer\", fontsize=16)\n",
    "    plt.ylabel(\"Mean Accuracy\", fontsize=16)\n",
    "    plt.xticks(fontsize=16)\n",
    "    plt.yticks(fontsize=16)\n",
    "\n",
    "    plt.savefig(\"../data/results/plots/cross_validation.pdf\")\n",
    "\n",
    "    # Show the plot\n",
    "    plt.show()"
   ]
  },
  {
   "cell_type": "code",
   "execution_count": null,
   "metadata": {},
   "outputs": [],
   "source": [
    "plot_layer_mean_accuracies(results[0])"
   ]
  },
  {
   "cell_type": "code",
   "execution_count": null,
   "metadata": {},
   "outputs": [],
   "source": []
  }
 ],
 "metadata": {
  "kernelspec": {
   "display_name": ".venv",
   "language": "python",
   "name": "python3"
  },
  "language_info": {
   "codemirror_mode": {
    "name": "ipython",
    "version": 3
   },
   "file_extension": ".py",
   "mimetype": "text/x-python",
   "name": "python",
   "nbconvert_exporter": "python",
   "pygments_lexer": "ipython3",
   "version": "3.12.6"
  }
 },
 "nbformat": 4,
 "nbformat_minor": 2
}
