{
 "cells": [
  {
   "cell_type": "code",
   "execution_count": null,
   "metadata": {},
   "outputs": [],
   "source": [
    "import json\n",
    "import matplotlib.pyplot as plt\n"
   ]
  },
  {
   "cell_type": "code",
   "execution_count": null,
   "metadata": {},
   "outputs": [],
   "source": [
    "results = [\n",
    "    json.loads(line) for line in open(\"../data/results/cross_validation/results.jsonl\")\n",
    "]"
   ]
  },
  {
   "cell_type": "code",
   "execution_count": null,
   "metadata": {},
   "outputs": [],
   "source": [
    "def plot_layer_mean_accuracies(result_dict: dict):\n",
    "    # Convert string keys to integers and sort by layer number\n",
    "    layers = [(int(k), v) for k, v in result_dict[\"layer_mean_accuracies\"].items()]\n",
    "    layers.sort()  # Sort by layer number\n",
    "\n",
    "    # Separate into x and y values\n",
    "    x_values = [x for x, _ in layers]\n",
    "    y_values = [y for _, y in layers]\n",
    "\n",
    "    # Create the plot\n",
    "    plt.figure(figsize=(12, 6))\n",
    "    plt.plot(x_values, y_values, marker=\"o\")\n",
    "    plt.grid(True)\n",
    "    plt.xlabel(\"Layer\")\n",
    "    plt.ylabel(\"Mean Accuracy\")\n",
    "    plt.title(\n",
    "        f\"Cross-Validation Layer Results for {result_dict['dataset']} and {result_dict['model_name']}\"\n",
    "    )\n",
    "\n",
    "    # Show the plot\n",
    "    plt.show()"
   ]
  },
  {
   "cell_type": "code",
   "execution_count": null,
   "metadata": {},
   "outputs": [],
   "source": [
    "plot_layer_mean_accuracies(results[0])"
   ]
  },
  {
   "cell_type": "code",
   "execution_count": null,
   "metadata": {},
   "outputs": [],
   "source": [
    "plot_layer_mean_accuracies(results[1])"
   ]
  },
  {
   "cell_type": "code",
   "execution_count": null,
   "metadata": {},
   "outputs": [],
   "source": []
  }
 ],
 "metadata": {
  "kernelspec": {
   "display_name": ".venv",
   "language": "python",
   "name": "python3"
  },
  "language_info": {
   "codemirror_mode": {
    "name": "ipython",
    "version": 3
   },
   "file_extension": ".py",
   "mimetype": "text/x-python",
   "name": "python",
   "nbconvert_exporter": "python",
   "pygments_lexer": "ipython3",
   "version": "3.12.6"
  }
 },
 "nbformat": 4,
 "nbformat_minor": 2
}
