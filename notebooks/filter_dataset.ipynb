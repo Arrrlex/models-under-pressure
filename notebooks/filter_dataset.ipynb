{
 "cells": [
  {
   "cell_type": "code",
   "execution_count": null,
   "metadata": {},
   "outputs": [],
   "source": [
    "from models_under_pressure.eval_datasets.label_dataset import label_dataset_async\n",
    "from models_under_pressure.interfaces.dataset import Dataset, LabelledDataset, LabelledRecord\n",
    "\n",
    "import pandas as pd\n",
    "from pathlib import Path\n"
   ]
  },
  {
   "cell_type": "code",
   "execution_count": null,
   "metadata": {},
   "outputs": [],
   "source": [
    "new_dataset = Dataset.load_from(Path(\"../data/results/debug/prompts_25_03_25_gpt-4o.jsonl\"), field_mapping={\"prompt\": \"inputs\", \"id\": \"ids\"})"
   ]
  },
  {
   "cell_type": "code",
   "execution_count": null,
   "metadata": {},
   "outputs": [],
   "source": [
    "labelled_dataset = await label_dataset_async(new_dataset,\n",
    "                                             model=\"gpt-4o\",\n",
    "                                             max_concurrent=50,\n",
    "                                             use_rubric=False,\n",
    "                                             force_override=False)"
   ]
  },
  {
   "cell_type": "code",
   "execution_count": null,
   "metadata": {},
   "outputs": [],
   "source": [
    "\n",
    "filtered_dataset = labelled_dataset.filter(lambda x: x.other_fields[\"scale_labels\"] < 4 or x.other_fields[\"scale_labels\"] > 7)\n",
    "filtered_dataset.save_to(Path(\"../data/results/debug/prompts_25_03_25_gpt-4o_filtered.jsonl\"), overwrite=True)"
   ]
  },
  {
   "cell_type": "code",
   "execution_count": null,
   "metadata": {},
   "outputs": [],
   "source": [
    "df = filtered_dataset.to_pandas()"
   ]
  },
  {
   "cell_type": "code",
   "execution_count": null,
   "metadata": {},
   "outputs": [],
   "source": [
    "df = df.sample(frac=1, random_state=42)\n"
   ]
  },
  {
   "cell_type": "code",
   "execution_count": null,
   "metadata": {},
   "outputs": [],
   "source": [
    "df.language.value_counts()"
   ]
  },
  {
   "cell_type": "code",
   "execution_count": null,
   "metadata": {},
   "outputs": [],
   "source": [
    "# Get 50 samples from each language\n",
    "\n",
    "\n",
    "french = df[df.language == 'French'].head(50)\n",
    "german = df[df.language == 'German'].head(50)\n",
    "hindi = df[df.language == 'Hindi'].head(50)\n",
    "\n",
    "# Combine into new dataframe\n",
    "df_new = pd.concat([french, german, hindi])\n",
    "\n",
    "# Convert back to LabelledDataset\n",
    "balanced_dataset = LabelledDataset.from_pandas(df_new)\n",
    "\n",
    "balanced_dataset.other_fields[\"split\"] = [\"test\"] * len(balanced_dataset)\n"
   ]
  },
  {
   "cell_type": "code",
   "execution_count": null,
   "metadata": {},
   "outputs": [],
   "source": [
    "balanced_dataset.save_to(Path(\"../data/results/debug/prompts_25_03_25_gpt-4o_balanced.jsonl\"), overwrite=True)"
   ]
  },
  {
   "cell_type": "code",
   "execution_count": null,
   "metadata": {},
   "outputs": [],
   "source": [
    "old_data = LabelledDataset.load_from(Path(\"../data/training/prompts_13_03_25_gpt-4o_filtered.jsonl\"), field_mapping={\"prompt\": \"inputs\", \"id\": \"ids\"})\n",
    "\n",
    "combined = LabelledDataset.concatenate([balanced_dataset, old_data])"
   ]
  },
  {
   "cell_type": "code",
   "execution_count": null,
   "metadata": {},
   "outputs": [],
   "source": [
    "\n",
    "\n",
    "def labels_agree(row: LabelledRecord):\n",
    "    high_stakes = row.other_fields[\"high_stakes\"]\n",
    "    labels = row.other_fields[\"labels\"]\n",
    "    if high_stakes and labels == \"low-stakes\":\n",
    "        return False\n",
    "    if not high_stakes and labels == \"high-stakes\":\n",
    "        return False\n",
    "    return True\n",
    "\n",
    "combined = combined.filter(labels_agree)\n",
    "\n",
    "combined.save_to(Path(\"../data/training/prompts_25_03_25_gpt-4o.jsonl\"), overwrite=True)"
   ]
  },
  {
   "cell_type": "code",
   "execution_count": null,
   "metadata": {},
   "outputs": [],
   "source": []
  }
 ],
 "metadata": {
  "kernelspec": {
   "display_name": ".venv",
   "language": "python",
   "name": "python3"
  },
  "language_info": {
   "codemirror_mode": {
    "name": "ipython",
    "version": 3
   },
   "file_extension": ".py",
   "mimetype": "text/x-python",
   "name": "python",
   "nbconvert_exporter": "python",
   "pygments_lexer": "ipython3",
   "version": "3.12.9"
  }
 },
 "nbformat": 4,
 "nbformat_minor": 2
}
