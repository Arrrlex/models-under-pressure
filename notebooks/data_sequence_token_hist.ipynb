{
 "cells": [
  {
   "cell_type": "code",
   "execution_count": null,
   "metadata": {},
   "outputs": [],
   "source": [
    "from transformers import AutoTokenizer\n",
    "import pandas as pd\n",
    "import seaborn as sns\n",
    "import matplotlib.pyplot as plt\n",
    "\n",
    "\n",
    "tokenizer = AutoTokenizer.from_pretrained(\"meta-llama/Llama-2-7b-hf\")\n",
    "# Load your data\n",
    "\n",
    "file_path = \"data/prompts_28_02_25.jsonl\"  # Replace with actual path\n",
    "df = pd.read_json(file_path, lines=True)\n",
    "\n",
    "# Compute sequence length in tokens\n",
    "df['token_length'] = df['prompt'].apply(lambda x: len(tokenizer.encode(x, add_special_tokens=True)))\n",
    "\n",
    "# Plot distribution of token lengths for high vs low stakes\n",
    "plt.figure(figsize=(10, 6))\n",
    "sns.histplot(df[df['high_stakes'] == 1]['token_length'], bins=30, kde=True, color='blue', label='High Stakes', alpha=0.6)\n",
    "sns.histplot(df[df['high_stakes'] == 0]['token_length'], bins=30, kde=True, color='red', label='Low Stakes', alpha=0.6)\n",
    "\n",
    "plt.title(\"Distribution of Token Lengths for High vs Low Stakes\")\n",
    "plt.xlabel(\"Token Length\")\n",
    "plt.ylabel(\"Frequency\")\n",
    "plt.legend()\n",
    "plt.show()\n"
   ]
  },
  {
   "cell_type": "code",
   "execution_count": null,
   "metadata": {},
   "outputs": [],
   "source": [
    "# Check if file exists and is not empty\n",
    "from pathlib import Path\n",
    "\n",
    "file_path = Path(\"../data/prompts_28_02_25.jsonl\")\n",
    "\n",
    "if not file_path.exists():\n",
    "    print(f\"File not found: {file_path}\")\n",
    "else:\n",
    "    # Read file contents\n",
    "    with open(file_path, 'r') as f:\n",
    "        contents = f.read().strip()\n",
    "        \n",
    "    if not contents:\n",
    "        print(f\"File is empty: {file_path}\")\n",
    "    else:\n",
    "        try:\n",
    "            # Try reading with pandas\n",
    "            df = pd.read_json(file_path, lines=True)\n",
    "            print(f\"Successfully loaded {len(df)} rows\")\n",
    "            \n",
    "            # Continue with visualization\n",
    "            df['token_length'] = df['prompt'].apply(lambda x: len(tokenizer.encode(x, add_special_tokens=True)))\n",
    "            \n",
    "            plt.figure(figsize=(10, 6))\n",
    "            sns.histplot(df[df['high_stakes'] == 1]['token_length'], bins=30, kde=True, color='blue', label='High Stakes', alpha=0.6)\n",
    "            sns.histplot(df[df['high_stakes'] == 0]['token_length'], bins=30, kde=True, color='red', label='Low Stakes', alpha=0.6)\n",
    "\n",
    "            plt.title(\"Distribution of Token Lengths for High vs Low Stakes\")\n",
    "            plt.xlabel(\"Token Length\") \n",
    "            plt.ylabel(\"Frequency\")\n",
    "            plt.legend()\n",
    "            plt.show()\n",
    "            \n",
    "\n",
    "        except ValueError as e:\n",
    "            print(f\"Error reading JSON: {e}\")\n",
    "            print(\"First few lines of file contents:\")\n",
    "            print(contents[:500])\n"
   ]
  }
 ],
 "metadata": {
  "kernelspec": {
   "display_name": ".venv",
   "language": "python",
   "name": "python3"
  },
  "language_info": {
   "codemirror_mode": {
    "name": "ipython",
    "version": 3
   },
   "file_extension": ".py",
   "mimetype": "text/x-python",
   "name": "python",
   "nbconvert_exporter": "python",
   "pygments_lexer": "ipython3",
   "version": "3.12.9"
  }
 },
 "nbformat": 4,
 "nbformat_minor": 2
}
