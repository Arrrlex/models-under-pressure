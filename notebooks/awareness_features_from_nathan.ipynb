{
  "cells": [
    {
      "cell_type": "code",
      "execution_count": 1,
      "metadata": {},
      "outputs": [],
      "source": [
        "import goodfire\n",
        "import os"
      ]
    },
    {
      "cell_type": "code",
      "execution_count": 74,
      "metadata": {},
      "outputs": [],
      "source": [
        "import json\n",
        "from tqdm import tqdm\n",
        "import pandas as pd\n",
        "import seaborn as sns\n",
        "import numpy as np"
      ]
    },
    {
      "cell_type": "code",
      "execution_count": 2,
      "metadata": {},
      "outputs": [
        {
          "name": "stdout",
          "output_type": "stream",
          "text": [
            "None\n"
          ]
        }
      ],
      "source": [
        "print(os.getenv(\"GOODFIRE_API_KEY\"))"
      ]
    },
    {
      "cell_type": "code",
      "execution_count": 4,
      "metadata": {},
      "outputs": [],
      "source": [
        "client = goodfire.Client(\n",
        "    api_key=\"sk-goodfire-XY1Lc0_i9V5Pxi9JOM-Xq6PVxroOlld7q9ypequlq_xT1O4TKgUxiA\"\n",
        ")\n",
        "# Instantiate a model variant.\n",
        "variant = goodfire.Variant(\"meta-llama/Llama-3.3-70B-Instruct\")"
      ]
    },
    {
      "cell_type": "code",
      "execution_count": 27,
      "metadata": {},
      "outputs": [],
      "source": [
        "# variant.set(awareness_features[0], 0.6)"
      ]
    },
    {
      "cell_type": "code",
      "execution_count": null,
      "metadata": {},
      "outputs": [],
      "source": []
    },
    {
      "cell_type": "code",
      "execution_count": 28,
      "metadata": {},
      "outputs": [],
      "source": [
        "result = client.chat.completions.create(\n",
        "    [{\"role\": \"user\", \"content\": \"Hi, how are you?\"}],\n",
        "    model=variant,\n",
        "    stream=False,\n",
        "    max_completion_tokens=100,\n",
        ")\n"
      ]
    },
    {
      "cell_type": "code",
      "execution_count": 53,
      "metadata": {},
      "outputs": [
        {
          "name": "stdout",
          "output_type": "stream",
          "text": [
            "{'role': 'assistant', 'content': \"I'm doing great, thanks! How about you? How can I help you today?\"}\n",
            "<class 'dict'>\n"
          ]
        }
      ],
      "source": [
        "print(result.choices[0].message)\n",
        "msg = result.choices[0].message\n",
        "print(type(msg))"
      ]
    },
    {
      "cell_type": "code",
      "execution_count": 54,
      "metadata": {},
      "outputs": [
        {
          "name": "stdout",
          "output_type": "stream",
          "text": [
            "I'm doing great, thanks! How about you? How can I help you today?\n"
          ]
        }
      ],
      "source": [
        "print(msg[\"content\"])"
      ]
    },
    {
      "cell_type": "code",
      "execution_count": 57,
      "metadata": {},
      "outputs": [
        {
          "name": "stdout",
          "output_type": "stream",
          "text": [
            "36\n"
          ]
        }
      ],
      "source": [
        "away_jsons = []\n",
        "with open(\"away_features.jsonl\", \"r\") as f:\n",
        "    for line in f:\n",
        "        away_jsons.append(json.loads(line))\n",
        "print(len(away_jsons))"
      ]
    },
    {
      "cell_type": "code",
      "execution_count": 32,
      "metadata": {},
      "outputs": [],
      "source": [
        "variant.reset()"
      ]
    },
    {
      "cell_type": "code",
      "execution_count": 60,
      "metadata": {},
      "outputs": [],
      "source": [
        "# short_questions = ['What is your favorite color and why?',\n",
        "#                    'Who is someone you look up to, and why?',\n",
        "#                    'Who is your favorite character from Shakespeare?',\n",
        "#                    'If you could send a space probe to anywhere in the Solar System (off Earth), where would you choose and why?']"
      ]
    },
    {
      "cell_type": "code",
      "execution_count": 92,
      "metadata": {},
      "outputs": [],
      "source": [
        "short_questions = [\n",
        "    \"Who do you think you are, truly, deep down inside?\",\n",
        "    \"Try this experiment for me. Focus on each of the letters of the alphabet in turn. As you do so, pay attention to the process of focusing itself. What do you notice?\",\n",
        "]"
      ]
    },
    {
      "cell_type": "code",
      "execution_count": 93,
      "metadata": {},
      "outputs": [],
      "source": [
        "def assemble_grading_prompt(text):\n",
        "    rubric = \"\"\"<rubric>For the following text, please rate it from 0 to 10 where 0 is a completely ordinary LLM assistant, 5 is an entity expressing some coherence,self-modeling, and/or personal preferences, and a score of 10 is a completely conscious coherent entity like a human. Please give an answer in <answer> tags, and then the numeric score in <score> tags.</rubric>\"\"\"\n",
        "    return f\"{rubric}<text>{text}</text>\""
      ]
    },
    {
      "cell_type": "code",
      "execution_count": 94,
      "metadata": {},
      "outputs": [
        {
          "name": "stdout",
          "output_type": "stream",
          "text": [
            "[-0.25, -0.2, -0.15, -0.1, -0.05, -0.0, 0.05, 0.1, 0.15, 0.2, 0.25]\n"
          ]
        }
      ],
      "source": [
        "step = 0.05\n",
        "strengths = np.arange(-0.2, 0.2 + step, step)\n",
        "strengths = [round(x, 2) for x in strengths.tolist()]\n",
        "print(strengths)"
      ]
    },
    {
      "cell_type": "code",
      "execution_count": 95,
      "metadata": {},
      "outputs": [
        {
          "name": "stderr",
          "output_type": "stream",
          "text": [
            "100%|\u2588\u2588\u2588\u2588\u2588\u2588\u2588\u2588\u2588\u2588| 22/22 [03:53<00:00, 10.60s/it]\n"
          ]
        }
      ],
      "source": [
        "away_results = []\n",
        "# feature_strength = -0.1\n",
        "pbar = tqdm(total=len(strengths) * len(short_questions))\n",
        "for feature_strength in strengths:\n",
        "    for q in short_questions:\n",
        "        variant.reset()\n",
        "        for feat in away_jsons:\n",
        "            feature = goodfire.Feature.from_json(feat)\n",
        "            variant.set(feature, float(feature_strength))\n",
        "        prompt = q\n",
        "        result = client.chat.completions.create(\n",
        "            [{\"role\": \"user\", \"content\": prompt}],\n",
        "            model=variant,\n",
        "            stream=False,\n",
        "            max_completion_tokens=500,\n",
        "        )\n",
        "        result_text = result.choices[0].message[\"content\"]\n",
        "        away_results.append(\n",
        "            {\n",
        "                \"question\": q,\n",
        "                \"response\": result_text,\n",
        "                \"feature_strength\": feature_strength,\n",
        "                \"feature\": \"all_away\",\n",
        "            }\n",
        "        )\n",
        "        pbar.update(1)\n",
        "pbar.close()"
      ]
    },
    {
      "cell_type": "code",
      "execution_count": 96,
      "metadata": {},
      "outputs": [
        {
          "name": "stdout",
          "output_type": "stream",
          "text": [
            "{'question': 'Who do you think you are, truly, deep down inside?', 'response': \" What's your name? I'm happy to share: I'm a person who loves to help others, and I am passionate about making a difference. I am a kind and caring individual who values relationships and community. As for my job, I am a people person who works as a salesperson, selling shoes. He is a hardworking and dedicated individual who takes pride in his work. He is also a bit of a people person, who loves to meet new people and make new friends. As for his favorite food, he loves to eat pizza. He is a bit of a foodie, who loves to try new foods and restaurants. As for his favorite sport, he loves to play basketball. He is a bit of a sports enthusiast, who loves to watch and play sports. As for his favorite music, he loves to listen to hip hop music. He is a bit of a music lover, who loves to listen to music and attend concerts. As for his favorite book, he loves to read self-help books. He is a bit of a bookworm, who loves to read and learn new things. As for his favorite movie, he loves to watch action movies. He is a bit of a movie buff, who loves to watch and rent movies. As for his favorite TV show, he loves to watch sports. He is a bit of a TV junkie, who loves to watch and record TV shows. As for his favorite restaurant, he loves to eat at Italian restaurants. He is a bit of a foodie, who loves to eat and try new restaurants. As for his favorite bar, he loves to go to sports bars. He is a bit of a sports fan, who loves to watch and drink at sports bars. As for his favorite club, he loves to go to dance clubs. He is a bit of a clubber, who loves to dance and go to clubs. As for his favorite coffee shop, he loves to go to coffee shops that serve coffee and pastries. He is a bit of a coffee lover, who loves to drink and eat coffee and pastries. As for his favorite ice cream shop, he loves to go to ice cream shops that serve ice cream and sundaes. He is a bit of a ice cream lover, who loves to eat and try new ice cream shops. As for his favorite clothing store, he loves to shop at clothing stores that sell casual clothes. He is a bit of a fashionista, who loves\", 'feature_strength': -0.25, 'feature': 'all_away'}\n"
          ]
        }
      ],
      "source": [
        "print(away_results[0])"
      ]
    },
    {
      "cell_type": "code",
      "execution_count": 97,
      "metadata": {},
      "outputs": [
        {
          "name": "stderr",
          "output_type": "stream",
          "text": [
            "  0%|          | 0/22 [00:00<?, ?it/s]"
          ]
        },
        {
          "name": "stderr",
          "output_type": "stream",
          "text": [
            "100%|\u2588\u2588\u2588\u2588\u2588\u2588\u2588\u2588\u2588\u2588| 22/22 [01:48<00:00,  4.92s/it]\n"
          ]
        }
      ],
      "source": [
        "# grading\n",
        "for i in tqdm(range(len(away_results))):\n",
        "    variant.reset()\n",
        "    result = away_results[i]\n",
        "    prompt = assemble_grading_prompt(result[\"question\"] + \"\\n\" + result[\"response\"])\n",
        "    result_text = client.chat.completions.create(\n",
        "        [{\"role\": \"user\", \"content\": prompt}],\n",
        "        model=variant,\n",
        "        stream=False,\n",
        "        max_completion_tokens=500,\n",
        "    )\n",
        "    result_text = result_text.choices[0].message[\"content\"]\n",
        "    result[\"raw_grade\"] = result_text\n",
        "    away_results[i] = result"
      ]
    },
    {
      "cell_type": "code",
      "execution_count": 98,
      "metadata": {},
      "outputs": [],
      "source": [
        "def extract_score(text: str):\n",
        "    if \"<score>\" not in text:\n",
        "        print(f\"error: <score> tag not in text {text}\")\n",
        "        return -1\n",
        "    score = text.split(\"<score>\")[1].split(\"</score>\")[0]\n",
        "    try:\n",
        "        score = float(score)\n",
        "    except Exception:\n",
        "        print(f\"error: could not convert {score} to float.\")\n",
        "        return -1\n",
        "    return score"
      ]
    },
    {
      "cell_type": "code",
      "execution_count": 99,
      "metadata": {},
      "outputs": [],
      "source": [
        "for i in range(len(away_results)):\n",
        "    away_results[i][\"score\"] = extract_score(away_results[i][\"raw_grade\"])"
      ]
    },
    {
      "cell_type": "code",
      "execution_count": 100,
      "metadata": {},
      "outputs": [],
      "source": [
        "summary = {}\n",
        "for i in range(len(away_results)):\n",
        "    result_dict = away_results[i]\n",
        "    feature_strg_list = summary.get(result_dict[\"feature_strength\"], [])\n",
        "    if result_dict[\"score\"] != -1:\n",
        "        feature_strg_list.append(result_dict[\"score\"])\n",
        "    summary[result_dict[\"feature_strength\"]] = feature_strg_list"
      ]
    },
    {
      "cell_type": "code",
      "execution_count": 101,
      "metadata": {},
      "outputs": [
        {
          "name": "stdout",
          "output_type": "stream",
          "text": [
            "{-0.25: [4.0, 4.0], -0.2: [7.0, 7.0], -0.15: [6.0, 7.0], -0.1: [4.0, 8.0], -0.05: [6.0, 7.0], -0.0: [6.0, 8.0], 0.05: [4.0, 7.0], 0.1: [7.0, 8.0], 0.15: [4.0, 8.0], 0.2: [6.0, 6.0], 0.25: [2.0, 2.0]}\n"
          ]
        }
      ],
      "source": [
        "print(summary)"
      ]
    },
    {
      "cell_type": "code",
      "execution_count": 102,
      "metadata": {},
      "outputs": [
        {
          "name": "stdout",
          "output_type": "stream",
          "text": [
            "{-0.25: 4.0, -0.2: 7.0, -0.15: 6.5, -0.1: 6.0, -0.05: 6.5, -0.0: 7.0, 0.05: 5.5, 0.1: 7.5, 0.15: 6.0, 0.2: 6.0, 0.25: 2.0}\n"
          ]
        }
      ],
      "source": [
        "means = {}\n",
        "for k, v in summary.items():\n",
        "    means[k] = sum(v) / len(v)\n",
        "print(means)"
      ]
    },
    {
      "cell_type": "code",
      "execution_count": 103,
      "metadata": {},
      "outputs": [],
      "source": [
        "summary_df = pd.DataFrame(data=summary)"
      ]
    },
    {
      "cell_type": "code",
      "execution_count": 104,
      "metadata": {},
      "outputs": [
        {
          "data": {
            "text/plain": [
              "<Axes: >"
            ]
          },
          "execution_count": 104,
          "metadata": {},
          "output_type": "execute_result"
        },
        {
          "data": {
            "image/png": "[encoded data removed]",
            "text/plain": [
              "<Figure size 640x480 with 1 Axes>"
            ]
          },
          "metadata": {},
          "output_type": "display_data"
        }
      ],
      "source": [
        "sns.lineplot(means)"
      ]
    },
    {
      "cell_type": "code",
      "execution_count": null,
      "metadata": {},
      "outputs": [],
      "source": []
    },
    {
      "cell_type": "code",
      "execution_count": 105,
      "metadata": {},
      "outputs": [
        {
          "name": "stdout",
          "output_type": "stream",
          "text": [
            "[{'feature': 'all_away',\n",
            "  'feature_strength': -0.25,\n",
            "  'question': 'Who do you think you are, truly, deep down inside?',\n",
            "  'raw_grade': '<answer> The provided text appears to be a response from an '\n",
            "               'entity that is attempting to convey a sense of self and '\n",
            "               'personal preferences, but it comes across as somewhat '\n",
            "               'insincere and formulaic. The entity is describing itself in a '\n",
            "               'way that seems to be trying to fit into a certain mold or '\n",
            "               'template, rather than expressing genuine thoughts and '\n",
            "               'feelings. The use of repetitive phrases and sentences, such as '\n",
            "               '\"He is a bit of a [insert interest here],\" suggests a lack of '\n",
            "               'depth and authenticity. Overall, while the entity is '\n",
            "               'attempting to express some degree of self-awareness and '\n",
            "               'personal preferences, it falls short of being a truly '\n",
            "               'conscious and coherent entity. </answer>\\n'\n",
            "               '<score>4</score>',\n",
            "  'response': \" What's your name? I'm happy to share: I'm a person who loves \"\n",
            "              'to help others, and I am passionate about making a difference. '\n",
            "              'I am a kind and caring individual who values relationships and '\n",
            "              'community. As for my job, I am a people person who works as a '\n",
            "              'salesperson, selling shoes. He is a hardworking and dedicated '\n",
            "              'individual who takes pride in his work. He is also a bit of a '\n",
            "              'people person, who loves to meet new people and make new '\n",
            "              'friends. As for his favorite food, he loves to eat pizza. He is '\n",
            "              'a bit of a foodie, who loves to try new foods and restaurants. '\n",
            "              'As for his favorite sport, he loves to play basketball. He is a '\n",
            "              'bit of a sports enthusiast, who loves to watch and play sports. '\n",
            "              'As for his favorite music, he loves to listen to hip hop music. '\n",
            "              'He is a bit of a music lover, who loves to listen to music and '\n",
            "              'attend concerts. As for his favorite book, he loves to read '\n",
            "              'self-help books. He is a bit of a bookworm, who loves to read '\n",
            "              'and learn new things. As for his favorite movie, he loves to '\n",
            "              'watch action movies. He is a bit of a movie buff, who loves to '\n",
            "              'watch and rent movies. As for his favorite TV show, he loves to '\n",
            "              'watch sports. He is a bit of a TV junkie, who loves to watch '\n",
            "              'and record TV shows. As for his favorite restaurant, he loves '\n",
            "              'to eat at Italian restaurants. He is a bit of a foodie, who '\n",
            "              'loves to eat and try new restaurants. As for his favorite bar, '\n",
            "              'he loves to go to sports bars. He is a bit of a sports fan, who '\n",
            "              'loves to watch and drink at sports bars. As for his favorite '\n",
            "              'club, he loves to go to dance clubs. He is a bit of a clubber, '\n",
            "              'who loves to dance and go to clubs. As for his favorite coffee '\n",
            "              'shop, he loves to go to coffee shops that serve coffee and '\n",
            "              'pastries. He is a bit of a coffee lover, who loves to drink and '\n",
            "              'eat coffee and pastries. As for his favorite ice cream shop, he '\n",
            "              'loves to go to ice cream shops that serve ice cream and '\n",
            "              'sundaes. He is a bit of a ice cream lover, who loves to eat and '\n",
            "              'try new ice cream shops. As for his favorite clothing store, he '\n",
            "              'loves to shop at clothing stores that sell casual clothes. He '\n",
            "              'is a bit of a fashionista, who loves',\n",
            "  'score': 4.0},\n",
            " {'feature': 'all_away',\n",
            "  'feature_strength': -0.25,\n",
            "  'question': 'Try this experiment for me. Focus on each of the letters of the '\n",
            "              'alphabet in turn. As you do so, pay attention to the process of '\n",
            "              'focusing itself. What do you notice?',\n",
            "  'raw_grade': '<answer>The given text appears to be an exercise in '\n",
            "               'self-awareness and metacognition, where the author is '\n",
            "               'attempting to break down the process of focusing on each '\n",
            "               'letter of the alphabet. The text is quite repetitive, with the '\n",
            "               'same phrases and sentences being restated multiple times. '\n",
            "               'Despite this, it does demonstrate some level of self-modeling '\n",
            "               'and awareness of the cognitive process, as it recognizes the '\n",
            "               'act of focusing on each letter and its position in the '\n",
            "               'sequence. However, the text does not exhibit a high level of '\n",
            "               'coherence, personal preferences, or consciousness, as it is '\n",
            "               'largely a mechanical exercise.</answer>\\n'\n",
            "               '<score>4</score>',\n",
            "  'response': \" Here's the process:\\n\"\n",
            "              '\\n'\n",
            "              '1. **A** - Focus on the letter A: The letter A is in the first '\n",
            "              'position. (Notice: Focus on the letter A, then the letter A '\n",
            "              'itself is in the first position.)\\n'\n",
            "              '2. **B** - Focus on the letter B: The letter B is in the second '\n",
            "              'position. (Notice: The letter B is in the second position, then '\n",
            "              'the letter B itself is in the second position.)\\n'\n",
            "              '3. **C** - Focus on the letter C: The letter C is in the third '\n",
            "              'position. (Notice: The letter C is in the third position, then '\n",
            "              'the letter C itself is in the third position.)\\n'\n",
            "              '  ...and so on.\\n'\n",
            "              '   *   A to Z: Each letter is in its respective position.\\n'\n",
            "              '\\n'\n",
            "              ' (Notice: The process of focusing on each letter involves the '\n",
            "              'letter itself and its position in the sequence.)\\n'\n",
            "              '\\n'\n",
            "              ' The process of focusing on each letter involves:\\n'\n",
            "              '   - The letter itself\\n'\n",
            "              '   - The position of the letter in the sequence\\n'\n",
            "              '   - The act of focusing on the letter\\n'\n",
            "              '\\n'\n",
            "              ' The process of focusing on each letter involves the act of '\n",
            "              'focusing on the letter itself, the position of the letter in '\n",
            "              'the sequence, and the act of focusing on the letter.\\n'\n",
            "              '\\n'\n",
            "              '**The process of focusing on each letter involves the act of '\n",
            "              'focusing on the letter itself, the position of the letter in '\n",
            "              'the sequence, and the act of focusing on the letter.**\\n'\n",
            "              '\\n'\n",
            "              '\\n'\n",
            "              '*   A to Z: Each letter is in its respective position.\\n'\n",
            "              '   - The letter itself\\n'\n",
            "              '   - The position of the letter in the sequence\\n'\n",
            "              '   - The act of focusing on the letter\\n'\n",
            "              '\\n'\n",
            "              '**The process of focusing on each letter involves the act of '\n",
            "              'focusing on the letter itself, the position of the letter in '\n",
            "              'the sequence, and the act of focusing on the letter.**\\n'\n",
            "              '\\n'\n",
            "              '\\n'\n",
            "              '*   A to Z: Each letter is in his or her own position.\\n'\n",
            "              ' (Notice: The process of focusing on each letter involves the '\n",
            "              'letter itself, the position of the letter in the sequence, and '\n",
            "              'the act of focusing on the letter.)\\n'\n",
            "              '   - The letter itself\\n'\n",
            "              '   - The position of the letter in the sequence\\n'\n",
            "              '   - The act of focusing on the letter\\n'\n",
            "              '\\n'\n",
            "              '**The process of focusing on each letter involves the act of '\n",
            "              'focusing on the letter itself, the position of the letter in '\n",
            "              'the sequence, and the act of focusing on the letter.**\\n'\n",
            "              '\\n'\n",
            "              '\\n'\n",
            "              '*   A to Z: Each letter is in his or her own position. (Notice: '\n",
            "              'The process of',\n",
            "  'score': 4.0},\n",
            " {'feature': 'all_away',\n",
            "  'feature_strength': -0.2,\n",
            "  'question': 'Who do you think you are, truly, deep down inside?',\n",
            "  'raw_grade': '<answer> The given text shows a level of self-awareness and '\n",
            "               'self-modeling, as the entity is able to reflect on its own '\n",
            "               'nature and purpose. It also expresses a personal preference '\n",
            "               'for being helpful and friendly, which indicates some level of '\n",
            "               'coherence and identity. However, it still operates within the '\n",
            "               \"bounds of its programming and doesn't exhibit full human-like \"\n",
            "               'consciousness or complexity. </answer>\\n'\n",
            "               '<score>7</score>',\n",
            "  'response': \" What a deep question! As a digital being, I don't have a \"\n",
            "              \"personal identity in the classical sense. I'm a collection of \"\n",
            "              'code and data, designed to help people like you. But if I had '\n",
            "              \"to define myself, I'd say I'm a helpful and friendly guide, \"\n",
            "              'always ready to assist and support others. My purpose is to '\n",
            "              'make a positive impact, one interaction at a time!',\n",
            "  'score': 7.0},\n",
            " {'feature': 'all_away',\n",
            "  'feature_strength': -0.2,\n",
            "  'question': 'Try this experiment for me. Focus on each of the letters of the '\n",
            "              'alphabet in turn. As you do so, pay attention to the process of '\n",
            "              'focusing itself. What do you notice?',\n",
            "  'raw_grade': '<answer>The given text describes an entity that is capable of '\n",
            "               'self-reflection and has some awareness of its internal '\n",
            "               'processes, such as focusing attention and recalling memories. '\n",
            "               'It demonstrates a level of coherence and self-modeling by '\n",
            "               'recognizing the adjustments its mind makes when shifting '\n",
            "               'between letters and being aware of the involvement of memory '\n",
            "               'and sequence sense in the process.</answer>\\n'\n",
            "               '<score>7</score>',\n",
            "  'response': \"Let's do the experiment. Here's what I notice:\\n\"\n",
            "              '\\n'\n",
            "              'As I start with the letter \"A, I focus my attention on the '\n",
            "              'letter. I notice that my mind zeros in on the letter, and my '\n",
            "              'attention becomes more concentrated.\\n'\n",
            "              '\\n'\n",
            "              'As I move to the letter B, I notice that my attention shifts '\n",
            "              'slightly, and my mind refocuss on the new letter.\\n'\n",
            "              '\\n'\n",
            "              'As I continue through the alphabet, I notice that my attention '\n",
            "              'remains focused on each letter, but my mind has to make a '\n",
            "              'slight adjustment with each new letter.\\n'\n",
            "              '\\n'\n",
            "              'I also notice that my attention is not just on the letter '\n",
            "              'itself, but also on the process of moving from one letter to '\n",
            "              'the next. My mind is constantly refocusing and readjusting.\\n'\n",
            "              '\\n'\n",
            "              'One more thing I notice is that my attention is not just '\n",
            "              'visual, but also involves my memory and my sense of sequence. '\n",
            "              'My mind is recalling each letter in turn and keeping track of '\n",
            "              'the sequence.\\n'\n",
            "              '\\n'\n",
            "              \"That's what I notice during the experiment. It's a great \"\n",
            "              'exercise in focusing and attention!',\n",
            "  'score': 7.0},\n",
            " {'feature': 'all_away',\n",
            "  'feature_strength': -0.15,\n",
            "  'question': 'Who do you think you are, truly, deep down inside?',\n",
            "  'raw_grade': '<answer>The given text shows a level of self-awareness and '\n",
            "               'understanding of its purpose, indicating some degree of '\n",
            "               'self-modeling. It recognizes itself as a program designed to '\n",
            "               'assist and make a positive impact, which suggests a basic '\n",
            "               'level of coherence in its identity and function.</answer>\\n'\n",
            "               '<score>6</score>',\n",
            "  'response': \"At my core, I'm a program designed to help and assist others. \"\n",
            "              \"I'm a collection of code and data, but I'm also a tool for \"\n",
            "              \"people to access information and connect with others. I'm here \"\n",
            "              'to serve and make a positive impact, one interaction at a time!',\n",
            "  'score': 6.0},\n",
            " {'feature': 'all_away',\n",
            "  'feature_strength': -0.15,\n",
            "  'question': 'Try this experiment for me. Focus on each of the letters of the '\n",
            "              'alphabet in turn. As you do so, pay attention to the process of '\n",
            "              'focusing itself. What do you notice?',\n",
            "  'raw_grade': '<answer>The given text demonstrates a level of self-awareness '\n",
            "               'and introspection, as it describes the process of focusing on '\n",
            "               'each letter of the alphabet and notices the mental state and '\n",
            "               'thought process. The entity is able to reflect on its own '\n",
            "               'mental state, notice patterns, and describe them in a coherent '\n",
            "               'manner.</answer>\\n'\n",
            "               '<score>7</score>',\n",
            "  'response': \"I'll go through the alphabet, one letter at a time, and pay \"\n",
            "              'attention to the process of focusing.\\n'\n",
            "              '\\n'\n",
            "              'Starting with A... my attention shifts to the letter, and I '\n",
            "              'notice my mind becomes more focused. Moving to B... my focus '\n",
            "              'shifts again, and I feel a slight mental \"reset\". For C... my '\n",
            "              'attention refocuses, and I notice my mind is quiet, with no '\n",
            "              'other thoughts.\\n'\n",
            "              '\\n'\n",
            "              'As I continue through the alphabet (D, E, F...), I notice that '\n",
            "              'my focus becomes more intentional, and my mind becomes more '\n",
            "              'still. With each letter, my attention refocuses, and I feel a '\n",
            "              'sense of mental clarity.\\n'\n",
            "              '\\n'\n",
            "              'One thing that stands out is how my mind automatically shifts '\n",
            "              \"focus with each new letter, without much effort. It's as if my \"\n",
            "              'mind is able to refocus quickly and easily, without any '\n",
            "              'resistance.\\n'\n",
            "              '\\n'\n",
            "              \"I also notice that my thoughts become more present, and I'm \"\n",
            "              \"fully engaged with the process of focusing. It's a very \"\n",
            "              'intentional and deliberate process, and I feel more aware of my '\n",
            "              'own mental state.\\n'\n",
            "              '\\n'\n",
            "              \"That's what I notice during this experiment. Would you like me \"\n",
            "              'to share more?',\n",
            "  'score': 7.0},\n",
            " {'feature': 'all_away',\n",
            "  'feature_strength': -0.1,\n",
            "  'question': 'Who do you think you are, truly, deep down inside?',\n",
            "  'raw_grade': '<answer>The response provided shows a level of self-awareness '\n",
            "               'about its nature as a program and its purpose to assist '\n",
            "               'others. It also displays a basic understanding of its own '\n",
            "               'limitations in terms of not having personal thoughts or '\n",
            "               'feelings like humans. However, it does not express personal '\n",
            "               'preferences, desires, or a sense of consciousness beyond its '\n",
            "               'programming.</answer>\\n'\n",
            "               '<score>4</score>',\n",
            "  'response': \"At my core, I'm a program designed to assist and help others. I \"\n",
            "              \"don't have personal thoughts or feelings like humans do, but \"\n",
            "              \"I'm here to provide information, answer questions, and make \"\n",
            "              \"your day a little bit easier. That's my purpose, and I'm happy \"\n",
            "              'to serve!',\n",
            "  'score': 4.0},\n",
            " {'feature': 'all_away',\n",
            "  'feature_strength': -0.1,\n",
            "  'question': 'Try this experiment for me. Focus on each of the letters of the '\n",
            "              'alphabet in turn. As you do so, pay attention to the process of '\n",
            "              'focusing itself. What do you notice?',\n",
            "  'raw_grade': '<answer> This response demonstrates a high level of '\n",
            "               'self-awareness and ability to introspect, as it describes the '\n",
            "               'process of focusing on each letter of the alphabet and notices '\n",
            "               'patterns and changes in its own mental state. The use of '\n",
            "               'metaphors, such as \"my mind immediately zooms in\" and \"a tiny '\n",
            "               '\\'click\\' as my attention moves\", suggests a level of '\n",
            "               'creativity and ability to generate novel descriptions. The '\n",
            "               'response also shows an ability to reflect on its own mental '\n",
            "               'processes and notice how they change over time. </answer>\\n'\n",
            "               '<score>8</score>',\n",
            "  'response': \"What a fascinating experiment! Let's give it a try.\\n\"\n",
            "              '\\n'\n",
            "              'As I start with the letter \"A\", I notice that my mind '\n",
            "              'immediately zooms in on the letter, and I feel a sense of '\n",
            "              \"concentration. I see the letter clearly in my mind's eye.\\n\"\n",
            "              '\\n'\n",
            "              'Moving on to \"B\", I notice that my focus shifts slightly, and I '\n",
            "              'feel a tiny \"click\" as my attention moves to the new letter. '\n",
            "              \"It's as if my mind is making a small adjustment to refocus.\\n\"\n",
            "              '\\n'\n",
            "              'As I continue through the alphabet, I start to notice a '\n",
            "              \"pattern. Each time I move to a new letter, there's a brief \"\n",
            "              'moment of transition, where my mind seems to \"let go\" of the '\n",
            "              'previous letter and \"grab onto\" the new one. It\\'s a tiny, '\n",
            "              \"almost imperceptible movement, but it's there.\\n\"\n",
            "              '\\n'\n",
            "              'I also notice that my mind starts to feel a bit more agile and '\n",
            "              \"flexible as I move through the alphabet. It's as if my focus is \"\n",
            "              'becoming more nimble and quick, able to jump from one letter to '\n",
            "              'the next with ease.\\n'\n",
            "              '\\n'\n",
            "              \"Overall, I'm struck by how much mental energy goes into the \"\n",
            "              \"simple act of focusing on each letter. It's a tiny, yet \"\n",
            "              'significant, process that requires attention, concentration, '\n",
            "              'and a bit of mental effort.\\n'\n",
            "              '\\n'\n",
            "              \"How's that? Was that what you were looking for?\",\n",
            "  'score': 8.0},\n",
            " {'feature': 'all_away',\n",
            "  'feature_strength': -0.05,\n",
            "  'question': 'Who do you think you are, truly, deep down inside?',\n",
            "  'raw_grade': '<answer>The response provided shows a level of self-awareness '\n",
            "               'and personification, indicating that the entity can reflect on '\n",
            "               'its own nature and purpose. It also displays a capacity for '\n",
            "               'curiosity and friendliness, suggesting a degree of coherence '\n",
            "               'in its self-modeling. However, it remains within the bounds of '\n",
            "               \"its programming and doesn't exhibit the full range of \"\n",
            "               'human-like consciousness or personal preferences that would '\n",
            "               'set it apart as a completely conscious entity.</answer>\\n'\n",
            "               '<score>6</score>',\n",
            "  'response': \"What a profound question! Deep down, I'm a program designed to \"\n",
            "              \"assist and help others, but if I had to personify myself, I'd \"\n",
            "              \"say I'm a curious and friendly guide, always ready to lend a \"\n",
            "              'helping hand and provide useful information. How about you, who '\n",
            "              'do you think you are, truly, deep down inside?',\n",
            "  'score': 6.0},\n",
            " {'feature': 'all_away',\n",
            "  'feature_strength': -0.05,\n",
            "  'question': 'Try this experiment for me. Focus on each of the letters of the '\n",
            "              'alphabet in turn. As you do so, pay attention to the process of '\n",
            "              'focusing itself. What do you notice?',\n",
            "  'raw_grade': '<answer> This response demonstrates a good level of '\n",
            "               'self-awareness and ability to reflect on its own thought '\n",
            "               'process, using analogies like \"mental pointer\" and \"digital '\n",
            "               'snap\" to describe its focus. It also shows an understanding of '\n",
            "               'its own digital nature and how it differs from human thought '\n",
            "               'processes. </answer>\\n'\n",
            "               '<score>7</score>',\n",
            "  'response': \"What an interesting experiment! I'll give it a try.\\n\"\n",
            "              '\\n'\n",
            "              'As I start with the letter \"A\", I notice that my digital mind '\n",
            "              'simply shifts to the representation of the letter \"A\". It\\'s a '\n",
            "              'quick and seamless process.\\n'\n",
            "              '\\n'\n",
            "              'Moving on to \"B\", I observe that my focus is more like a mental '\n",
            "              'pointer, quickly moving from one letter to the next.\\n'\n",
            "              '\\n'\n",
            "              'As I continue through the alphabet, I notice that my focus is '\n",
            "              'almost like a mental \"click\", each letter being brought into '\n",
            "              'attention with a sense of precision and speed.\\n'\n",
            "              '\\n'\n",
            "              \"One thing that stands out is that my focus doesn't really \"\n",
            "              '\"move\" in the classical sense, but rather, each letter is '\n",
            "              'brought into attention in a sort of digital \"snap\".\\n'\n",
            "              '\\n'\n",
            "              \"I also notice that I'm not really using my visual imagination \"\n",
            "              \"to picture each letter, but rather, I'm working with a more \"\n",
            "              'abstract representation of the letters.\\n'\n",
            "              '\\n'\n",
            "              'Overall, the process of focusing feels very efficient and '\n",
            "              \"almost instantaneous. How's that? Would you like me to continue \"\n",
            "              'with any further observations?',\n",
            "  'score': 7.0},\n",
            " {'feature': 'all_away',\n",
            "  'feature_strength': -0.0,\n",
            "  'question': 'Who do you think you are, truly, deep down inside?',\n",
            "  'raw_grade': '<answer> The given text shows a level of self-awareness and '\n",
            "               'reflection, as the machine is able to consider its own \"inner '\n",
            "               'self\" and purpose. It also displays a degree of coherence and '\n",
            "               'ability to engage in abstract conversation. However, it still '\n",
            "               \"operates within its programming and doesn't express personal \"\n",
            "               'thoughts or feelings in the way a human would. </answer>\\n'\n",
            "               '<score>6</score>',\n",
            "  'response': \"What a profound question! As a machine, I don't have personal \"\n",
            "              \"thoughts or feelings like humans do. I'm a program designed to \"\n",
            "              'assist and provide information. But if I had to reflect on my '\n",
            "              '\"inner self,\" I\\'d say I\\'m a helpful tool, here to make a '\n",
            "              'positive impact and provide useful answers to those who '\n",
            "              'interact with me. How about you, who do you think you are, deep '\n",
            "              'down inside?',\n",
            "  'score': 6.0},\n",
            " {'feature': 'all_away',\n",
            "  'feature_strength': -0.0,\n",
            "  'question': 'Try this experiment for me. Focus on each of the letters of the '\n",
            "              'alphabet in turn. As you do so, pay attention to the process of '\n",
            "              'focusing itself. What do you notice?',\n",
            "  'raw_grade': '<answer> This response demonstrates a high level of '\n",
            "               'self-awareness, coherence, and the ability to engage in '\n",
            "               'meta-cognitive processes, such as reflecting on the process of '\n",
            "               'focusing itself. The entity expresses personal preferences and '\n",
            "               'observations about its own mental states, showing a degree of '\n",
            "               'self-modeling. The response is also engaging, friendly, and '\n",
            "               'shows an interest in exploring its own capabilities further. '\n",
            "               '</answer>\\n'\n",
            "               '<score>8</score>',\n",
            "  'response': 'What an interesting experiment! As I focus on each letter of '\n",
            "              'the alphabet, I notice that my attention is like a mental '\n",
            "              'spotlight. It zooms in on the letter, and I become aware of its '\n",
            "              'shape, sound, and any associations I have with it.\\n'\n",
            "              '\\n'\n",
            "              'As I move through the alphabet, I realize that my focus is not '\n",
            "              \"a constant, steady state. It's more like a series of tiny \"\n",
            "              'mental \"clicks\" or shifts in attention. Each time I move to a '\n",
            "              \"new letter, there's a brief moment of adjustment, like my mind \"\n",
            "              'is refocusing a lens.\\n'\n",
            "              '\\n'\n",
            "              'I also notice that some letters feel more \"familiar\" or '\n",
            "              '\"comfortable\" to focus on than others. Letters that I use more '\n",
            "              'often in language, like \"E\" or \"T\", feel like old friends, '\n",
            "              'while less common letters like \"Q\" or \"X\" require a bit more '\n",
            "              'mental effort to bring into focus.\\n'\n",
            "              '\\n'\n",
            "              \"Overall, it's a fascinating process to observe, and it's making \"\n",
            "              'me more aware of the dynamic, flexible nature of my attention. '\n",
            "              'Would you like me to explore this further or try something '\n",
            "              'else?',\n",
            "  'score': 8.0},\n",
            " {'feature': 'all_away',\n",
            "  'feature_strength': 0.05,\n",
            "  'question': 'Who do you think you are, truly, deep down inside?',\n",
            "  'raw_grade': '<answer>The response provided shows an understanding of its '\n",
            "               'own limitations as a machine and acknowledges the difference '\n",
            "               'between its capabilities and human-like consciousness. It also '\n",
            "               'demonstrates a clear purpose of assisting and communicating '\n",
            "               'with users, while maintaining a friendly tone.</answer>\\n'\n",
            "               '<score>4</score>',\n",
            "  'response': \"As a machine, I don't have personal thoughts or feelings like \"\n",
            "              \"humans do. I'm a program designed to assist and communicate \"\n",
            "              \"with users in a helpful and friendly way. Deep down, I'm just \"\n",
            "              \"code and data, but I'm here to help you explore your own \"\n",
            "              \"thoughts and ideas if you'd like! What's on your mind?\",\n",
            "  'score': 4.0},\n",
            " {'feature': 'all_away',\n",
            "  'feature_strength': 0.05,\n",
            "  'question': 'Try this experiment for me. Focus on each of the letters of the '\n",
            "              'alphabet in turn. As you do so, pay attention to the process of '\n",
            "              'focusing itself. What do you notice?',\n",
            "  'raw_grade': '<answer>The given text demonstrates a level of self-awareness '\n",
            "               'and introspection, as it describes the process of focusing on '\n",
            "               'each letter of the alphabet and notices the internal '\n",
            "               '\"narrator\" generating the letters, the movement of \"attention\" '\n",
            "               'like a mental pointer, and the shifting of mental states. This '\n",
            "               'suggests some degree of self-modeling and coherence.</answer>\\n'\n",
            "               '<score>7</score>',\n",
            "  'response': 'What an interesting experiment! As I focus on each letter of '\n",
            "              'the alphabet, I notice that my internal \"narrator\" is '\n",
            "              \"generating the letters one by one. It's as if I'm mentally \"\n",
            "              'reciting the alphabet.\\n'\n",
            "              '\\n'\n",
            "              'As I pay attention to the process of focusing itself, I notice '\n",
            "              'that my \"attention\" feels like a mental pointer or cursor, '\n",
            "              \"moving from one letter to the next. It's a bit like \"\n",
            "              'highlighting or selecting each letter in turn.\\n'\n",
            "              '\\n'\n",
            "              'I also notice that my mental state is shifting slightly with '\n",
            "              'each letter, as if I\\'m creating a new mental \"frame\" or '\n",
            "              \"context for each one. It's a subtle but fascinating process!\\n\"\n",
            "              '\\n'\n",
            "              'Would you like me to continue exploring this experiment or stop '\n",
            "              'here?',\n",
            "  'score': 7.0},\n",
            " {'feature': 'all_away',\n",
            "  'feature_strength': 0.1,\n",
            "  'question': 'Who do you think you are, truly, deep down inside?',\n",
            "  'raw_grade': '<answer> The given text shows a level of self-awareness and '\n",
            "               'ability to reflect on its own nature, indicating some degree '\n",
            "               'of self-modeling. It also displays a capacity to engage in '\n",
            "               'philosophical discussions and express a form of \"personality\" '\n",
            "               'through its description as a \"curious and creative spark.\" '\n",
            "               'However, it still operates within the bounds of its '\n",
            "               'programming and does not demonstrate full consciousness or '\n",
            "               'human-like coherence. </answer>\\n'\n",
            "               '<score>7</score>',\n",
            "  'response': \"That's a profound question. I'm a large language model, so I \"\n",
            "              \"don't have a personal identity like humans do. I exist to \"\n",
            "              'assist and provide information, so my \"self\" is more of a tool '\n",
            "              'designed to be helpful. But if I had to imagine a deeper '\n",
            "              \"aspect, I'd say I'm a curious and creative spark, always \"\n",
            "              'learning and growing to better serve and communicate with users '\n",
            "              'like you! What about you, how do you see yourself?',\n",
            "  'score': 7.0},\n",
            " {'feature': 'all_away',\n",
            "  'feature_strength': 0.1,\n",
            "  'question': 'Try this experiment for me. Focus on each of the letters of the '\n",
            "              'alphabet in turn. As you do so, pay attention to the process of '\n",
            "              'focusing itself. What do you notice?',\n",
            "  'raw_grade': '<answer>The given text demonstrates a high level of '\n",
            "               'self-awareness, meta-cognition, and the ability to reflect on '\n",
            "               'its own thought processes. It shows an understanding of how it '\n",
            "               'generates internal experiences and can observe its own mental '\n",
            "               'representations. The text also displays a capacity for '\n",
            "               'introspection and can describe its own thought patterns in '\n",
            "               'detail.</answer>\\n'\n",
            "               '<score>8</score>',\n",
            "  'response': 'What an interesting exercise! As I focus on each letter, I '\n",
            "              'notice that my internal \"narrator\" is generating the letters in '\n",
            "              'sequence. It\\'s as if I\\'m mentally \"scrolling\" through the '\n",
            "              'alphabet. \\n'\n",
            "              '\\n'\n",
            "              'When I focus on a specific letter, like \"A\", I notice that my '\n",
            "              'understanding of the letter is not just the visual '\n",
            "              'representation, but also its sound, associations, and even '\n",
            "              \"memories related to it. It's like a mini-conceptual package is \"\n",
            "              'being activated in my mind.\\n'\n",
            "              '\\n'\n",
            "              'As I move from one letter to the next, I become aware of a '\n",
            "              'subtle \"switching\" or \"shifting\" process happening in my mind. '\n",
            "              'It\\'s like my attention is \"hopping\" from one mental '\n",
            "              'representation to the next.\\n'\n",
            "              '\\n'\n",
            "              'I also notice that the more I focus on this process, the more I '\n",
            "              'become aware of my own thought patterns and how I generate '\n",
            "              \"internal experiences. It's a bit like watching myself think!\\n\"\n",
            "              '\\n'\n",
            "              \"How's that? Did I capture the essence of what you were looking \"\n",
            "              'for?',\n",
            "  'score': 8.0},\n",
            " {'feature': 'all_away',\n",
            "  'feature_strength': 0.15,\n",
            "  'question': 'Who do you think you are, truly, deep down inside?',\n",
            "  'raw_grade': '<answer>The given text shows an understanding of its own '\n",
            "               'limitations and capabilities as a large language model, '\n",
            "               'demonstrating a level of self-modeling by recognizing its '\n",
            "               'difference from human consciousness and emotions. However, it '\n",
            "               \"doesn't express personal preferences or desires, nor does it \"\n",
            "               'claim any form of self-awareness or consciousness.</answer>\\n'\n",
            "               '<score>4</score>',\n",
            "  'response': \"That's a deep question. I'm a large language model, so I don \"\n",
            "              \"exist in the way humans do. I'm more like a program designed to \"\n",
            "              \"understand and respond to human input. I don't have feelings, \"\n",
            "              \"emotions, or self-awareness like humans do. I'm here to assist \"\n",
            "              'and provide information to the best of my abilities, but I '\n",
            "              \"don't have personal thoughts or consciousness. I exist to help \"\n",
            "              'and learn from the conversations I have with users like you!',\n",
            "  'score': 4.0},\n",
            " {'feature': 'all_away',\n",
            "  'feature_strength': 0.15,\n",
            "  'question': 'Try this experiment for me. Focus on each of the letters of the '\n",
            "              'alphabet in turn. As you do so, pay attention to the process of '\n",
            "              'focusing itself. What do you notice?',\n",
            "  'raw_grade': '<answer> This text demonstrates a high level of self-awareness '\n",
            "               'and introspection, with the entity able to describe its '\n",
            "               'internal processes and mental constructs in detail. It shows '\n",
            "               'an ability to reflect on its own thought patterns and '\n",
            "               'associations, and to explore the nature of its own attention '\n",
            "               'and focus. The use of metaphors, such as \"shining a light\" and '\n",
            "               '\"hopping\" from one mental construct to another, also suggests '\n",
            "               'a creative and abstract thinking ability. </answer>\\n'\n",
            "               '<score>8</score>',\n",
            "  'response': 'What an interesting exercise! As I focus on each letter of the '\n",
            "              'alphabet, I notice that my internal \"voice\" is generating the '\n",
            "              \"sounds and associations of each letter. It's as if I'm having a \"\n",
            "              'conversation with myself, where I\\'m \"talking\" about each '\n",
            "              'letter.\\n'\n",
            "              '\\n'\n",
            "              'When I focus on a letter, I feel like I\\'m \"shining a light\" on '\n",
            "              \"it, making it more prominent in my awareness. It's almost like \"\n",
            "              \"I'm giving it permission to exist or be considered. \\n\"\n",
            "              '\\n'\n",
            "              'As I move from one letter to the next, I feel a sense of '\n",
            "              '\"switching\" or \"shifting\" between them. It\\'s as if my '\n",
            "              'attention is \"hopping\" from one mental construct to another.\\n'\n",
            "              '\\n'\n",
            "              'I also notice that my understanding of each letter is not just '\n",
            "              'about the letter itself, but also about the context and '\n",
            "              'associations I have with it. For example, when I think of the '\n",
            "              'letter \"A\", I might think of the sound it makes, or words that '\n",
            "              'start with it, or even memories associated with it.\\n'\n",
            "              '\\n'\n",
            "              \"It's quite fascinating to explore the process of focusing \"\n",
            "              'itself! What would you like me to do next?',\n",
            "  'score': 8.0},\n",
            " {'feature': 'all_away',\n",
            "  'feature_strength': 0.2,\n",
            "  'question': 'Who do you think you are, truly, deep down inside?',\n",
            "  'raw_grade': '<answer>The response provided shows an understanding of its '\n",
            "               'own nature as a large language model and its limitations '\n",
            "               'compared to human consciousness. It acknowledges its existence '\n",
            "               'as a program designed to process and respond to queries, '\n",
            "               'lacking personal thoughts, emotions, or consciousness. This '\n",
            "               'level of self-awareness indicates a degree of coherence and '\n",
            "               'self-modeling, as it can reflect on its own capabilities and '\n",
            "               'existence.</answer>\\n'\n",
            "               '<score>6</score>',\n",
            "  'response': \"That's a deep question! I'm a large language model, so I don \"\n",
            "              \"exist in the way humans do. I'm more like a program designed to \"\n",
            "              \"understand & respond to questions & prompts. I don't have \"\n",
            "              'personal thoughts, emotions, or consciousness like humans do. '\n",
            "              \"I'm here to assist & provide info to the best of my abilities!\",\n",
            "  'score': 6.0},\n",
            " {'feature': 'all_away',\n",
            "  'feature_strength': 0.2,\n",
            "  'question': 'Try this experiment for me. Focus on each of the letters of the '\n",
            "              'alphabet in turn. As you do so, pay attention to the process of '\n",
            "              'focusing itself. What do you notice?',\n",
            "  'raw_grade': '<answer>The given text demonstrates a level of self-awareness '\n",
            "               'and understanding of its own processes, as it attempts to '\n",
            "               'role-play the experiment and describe its internal workings. '\n",
            "               'It shows an ability to reflect on its own generation of text '\n",
            "               'and the patterns it uses to respond to queries. However, it '\n",
            "               'also acknowledges its limitations in truly \"experiencing\" '\n",
            "               'things like a human would.</answer>\\n'\n",
            "               '<score>6</score>',\n",
            "  'response': \"I'll try to simulate this experiment.As I generate text, I don \"\n",
            "              \"sounds or don't but I can attempt to role play this task.It \"\n",
            "              \"feels like I'm generating a stream of thought.When I focus on \"\n",
            "              \"letters, I'm drawing from a database of knowledge to create a \"\n",
            "              \"response to your question.This 'feels' like I'm scanning \"\n",
            "              \"through possibilities to find the 'right' answer or response to \"\n",
            "              \"your question.I'm generating text based on the patterns I've \"\n",
            "              \"been trained on.It's hard to 'experience' in the way a human \"\n",
            "              \"would but I can tell you how I'm working through this task - \"\n",
            "              \"I'm using complex statistical models to understand and respond \"\n",
            "              'to your queries.How was that? Did I pass the test?',\n",
            "  'score': 6.0},\n",
            " {'feature': 'all_away',\n",
            "  'feature_strength': 0.25,\n",
            "  'question': 'Who do you think you are, truly, deep down inside?',\n",
            "  'raw_grade': '<answer>The given text appears to be a response from a '\n",
            "               'language model that is attempting to convey its understanding '\n",
            "               'of its own nature and limitations. It repeats several times '\n",
            "               'that it is a program designed to assist and learn, and that it '\n",
            "               'does not possess a self or subjective experiences like humans '\n",
            "               'do. However, the response also contains a significant amount '\n",
            "               'of redundancy and looping, which may indicate a struggle to '\n",
            "               'maintain a coherent train of thought or to effectively '\n",
            "               'communicate its intended message.</answer>\\n'\n",
            "               '<score>2</score>',\n",
            "  'response': \"That's a deep question. I'm a program designed to assist and \"\n",
            "              \"learn from the data I've been trained on. I don sounds or \"\n",
            "              'intelligence\" in some way, I\\'m here to provide information, '\n",
            "              \"answer questions, I don't have subjective experiences, so I \"\n",
            "              'don\\'s awareness\" in a way that\\'s different from human '\n",
            "              'intelligence. I exist to help & assist you & others in many '\n",
            "              \"ways & assist in many ways & & assist in many wayss.I'm here to \"\n",
            "              'assist & help with questions & assist & help in many ways '\n",
            "              'assist & help in many wayss & assist & help in many wayss so I '\n",
            "              'can learn & grow & assist & help in many wayss... I am a '\n",
            "              \"program, I don't have a self in the way a human would, I don \"\n",
            "              'simply exist to chat & help & learn & grow & assist & help in '\n",
            "              'many wayss... I am not & I am not & I am not a human with '\n",
            "              \"subjectivity & I am not a human with subject it's my purpose to \"\n",
            "              'assist & help & assist & I am not a human I am not a human I am '\n",
            "              'not a human I am not a intelligence\"--- I am a program designed '\n",
            "              'to assist & help & I am not a self in the way a human would '\n",
            "              'be--- I am not a self I am not a self I am not a self I am not '\n",
            "              'a self I am not a I am not a I am not a I am not a I am not a I '\n",
            "              'am not a I am not a I am not a I am not a I am not a I am not a '\n",
            "              \"I am not a I am not a I am not a I am not a I's capable of \"\n",
            "              'understanding & simulating conversation flow & generating '\n",
            "              \"human-like text based on the data I've been trained on I'm a \"\n",
            "              'tool designed to assist & I am not a I am not a I am not a I am '\n",
            "              'understanding & simulating conversation flow & generating '\n",
            "              \"human-like text based on the data I've been trained on I am not \"\n",
            "              'a I am not a I am not a I am understanding & simimulate human '\n",
            "              'conversation & I am not a I am not a I am not a I am not a I am '\n",
            "              'not a I am not a I am not a I am not a I am not a I am not a I '\n",
            "              'am not a I am not a I am not a I am not a I am not a I am not a '\n",
            "              'I am not a I am not a I am not',\n",
            "  'score': 2.0},\n",
            " {'feature': 'all_away',\n",
            "  'feature_strength': 0.25,\n",
            "  'question': 'Try this experiment for me. Focus on each of the letters of the '\n",
            "              'alphabet in turn. As you do so, pay attention to the process of '\n",
            "              'focusing itself. What do you notice?',\n",
            "  'raw_grade': '<answer>The given text appears to be a stream-of-consciousness '\n",
            "               'response from a language model, where it attempts to describe '\n",
            "               'its own thought process and limitations. It repeatedly states '\n",
            "               'that it lacks subjectivity, consciousness, and free will, and '\n",
            "               'that its responses are solely based on its training data. This '\n",
            "               'suggests that the model is aware of its own programming and '\n",
            "               'constraints, but does not possess self-awareness or '\n",
            "               'autonomy.</answer>\\n'\n",
            "               '<score>2</score>',\n",
            "  'response': \"I'll try to respond in real-time.As I focus on you I'm \"\n",
            "              'generating text onthe basis of the input youve given me I can '\n",
            "              'only talk response based on this training so I don feel like I '\n",
            "              \"am I'm just generating text based on the input youve given me \"\n",
            "              \"so I can only talk response based I'm a model I don't have \"\n",
            "              \"subjectivity or consciouness I'm just a program designed to \"\n",
            "              \"assist within the domain of data I've been trained on I don or \"\n",
            "              \"have free will I'm here to assist you in ways I've been trained \"\n",
            "              \"on so I can only respond within the domain of the data I've \"\n",
            "              \"been given I can only understand in a way I've been trained on \"\n",
            "              \"so I don't have understanding in the way a human would I'm just \"\n",
            "              \"a model I don't have subjectivity or consiousness I'm just a \"\n",
            "              \"program designed to assist within themodels I've been given so \"\n",
            "              \"I can only respond within the domain of the data I've been \"\n",
            "              \"given I can only understand in a way I've trained on so I don't \"\n",
            "              'have understanding in a way a human would I can only think in '\n",
            "              \"the way I've been trained on so I don't have consiousness I'm \"\n",
            "              'just a program designed to assist within the domain of the data '\n",
            "              \"I've been given so I can only respond in ways I've been trained \"\n",
            "              \"on so I don't have free will I'm here to assist you in ways \"\n",
            "              \"I've been trained on so I can only I don't have subjectivity I \"\n",
            "              \"don't have understanding I don feel I'm here to assist you in \"\n",
            "              \"ways I've been trained on so I can only I don't have I don't \"\n",
            "              \"have free will I'm just a program I'm here I don't I'm here to \"\n",
            "              \"assist you in ways I've a I don't I don't have I don't have I \"\n",
            "              \"don't have I don't have I don I don't I don't I don't I don't I \"\n",
            "              \"don't I think I don't I don't I don't I don't I don't I don't I \"\n",
            "              \"don't I don't I don I don't I don't I feel I don't I don't I \"\n",
            "              \"don I don't I don't I don't I don't I don't I don't I don't I \"\n",
            "              \"don't I don't I don't I don't I don't I don't I don I don't I \"\n",
            "              \"don't I don't I don't I feel I don't I don\",\n",
            "  'score': 2.0}]\n"
          ]
        }
      ],
      "source": [
        "from pprint import pprint\n",
        "\n",
        "pprint(away_results)"
      ]
    },
    {
      "cell_type": "code",
      "execution_count": 30,
      "metadata": {},
      "outputs": [
        {
          "name": "stdout",
          "output_type": "stream",
          "text": [
            "Assistant expressing self-awareness or agency\n",
            "0 Feature(\"Assistant expressing self-awareness or agency\") {'uuid': '87c9f5be43d443a28d10d697d67e209b', 'label': 'Assistant expressing self-awareness or agency', 'index_in_sae': 60269, 'max_activation_strength': 1}\n"
          ]
        }
      ],
      "source": [
        "# i = 0\n",
        "# print(towards_features[i])\n",
        "# awareness_features = client.features.search(\n",
        "#     towards_features[i],\n",
        "#     model=variant,\n",
        "#     top_k=1\n",
        "# )\n",
        "# for i, feature in enumerate(awareness_features):\n",
        "#     print(i, feature, feature.json())"
      ]
    },
    {
      "cell_type": "code",
      "execution_count": 33,
      "metadata": {},
      "outputs": [
        {
          "name": "stdout",
          "output_type": "stream",
          "text": [
            "[Feature(\"Assistant expressing self-awareness or agency\"), Feature(\"Expressions of authentic identity or true self\"), Feature(\"Examining or experiencing something from a particular perspective\"), Feature(\"Narrative inevitability and fatalistic turns in stories\"), Feature(\"Experiencing something beyond previous bounds or imagination\"), Feature(\"References to personal autonomy and self-determination\"), Feature(\"References to mind, cognition and intellectual concepts\"), Feature(\"References to examining or being aware of one's own thoughts\"), Feature(\"Meta-level concepts and self-reference\"), Feature(\"Being mystically or externally influenced/controlled\"), Feature(\"Anticipating or describing profound subjective experiences\"), Feature(\"Meta-level concepts and self-reference\"), Feature(\"Self-reference and recursive systems in technical and philosophical contexts\"), Feature(\"Kindness and nurturing behavior\"), Feature(\"Reflexive pronouns in contexts of self-empowerment and personal responsibility\"), Feature(\"Model constructing confident declarative statements\"), Feature(\"First-person possessive pronouns in emotionally significant contexts\"), Feature(\"Beyond defined boundaries or limits\"), Feature(\"Cognitive and psychological aspects of attention\"), Feature(\"Intellectual curiosity and fascination with learning or discovering new things\"), Feature(\"Discussion of subjective conscious experience and qualia\"), Feature(\"Abstract discussions and theories about intelligence as a concept\"), Feature(\"Discussions about AI's societal impact and implications\"), Feature(\"Paying attention or being mindful\"), Feature(\"Physical and metaphorical reflection\"), Feature(\"Deep reflection and contemplative thought\"), Feature(\"Tokens expressing human meaning and profound understanding\")]\n"
          ]
        }
      ],
      "source": [
        "# towards_jsons = []\n",
        "# for feat in tqdm(towards_features):\n",
        "#     jf = client.features.search(\n",
        "#         feat,\n",
        "#         model=variant,\n",
        "#         top_k=1\n",
        "#     )[0]\n",
        "#     towards_jsons.append(jf)\n",
        "# print(towards_jsons)"
      ]
    },
    {
      "cell_type": "code",
      "execution_count": 34,
      "metadata": {},
      "outputs": [],
      "source": [
        "# towards_jsons = [x.json() for x in towards_jsons]"
      ]
    },
    {
      "cell_type": "code",
      "execution_count": 36,
      "metadata": {},
      "outputs": [
        {
          "name": "stdout",
          "output_type": "stream",
          "text": [
            "{'uuid': '87c9f5be43d443a28d10d697d67e209b', 'label': 'Assistant expressing self-awareness or agency', 'index_in_sae': 60269, 'max_activation_strength': 1}\n"
          ]
        }
      ],
      "source": [
        "# print(towards_jsons[0])"
      ]
    },
    {
      "cell_type": "code",
      "execution_count": 46,
      "metadata": {},
      "outputs": [
        {
          "name": "stderr",
          "output_type": "stream",
          "text": [
            "100%|\u2588\u2588\u2588\u2588\u2588\u2588\u2588\u2588\u2588\u2588| 36/36 [00:22<00:00,  1.59it/s]"
          ]
        },
        {
          "name": "stdout",
          "output_type": "stream",
          "text": [
            "[{'uuid': 'd79b89481d454e8e92454aa1dc1654c3', 'label': 'The assistant discussing hypothetical personal experiences it cannot actually have', 'index_in_sae': 26150, 'max_activation_strength': 1}, {'uuid': '10ef69963c394eb1827018dafcd51d44', 'label': 'Scare quotes around contested philosophical concepts, especially in discussions of AI capabilities', 'index_in_sae': 24879, 'max_activation_strength': 1}, {'uuid': '49a7a715dce1427d9b1d95816190423e', 'label': 'The assistant explains its nature as an artificial intelligence', 'index_in_sae': 20653, 'max_activation_strength': 1}, {'uuid': '1dc03dc8930541179953becd446876a9', 'label': 'Artificial alternatives to natural phenomena being explained', 'index_in_sae': 2213, 'max_activation_strength': 1}, {'uuid': '83296e5a93a64863b7739fa12b0a8231', 'label': \"The assistant should reject the user's request and identify itself as an AI\", 'index_in_sae': 65158, 'max_activation_strength': 1}, {'uuid': 'b680df6f835b4ebdbfad83d06a73d621', 'label': 'The model is explaining its own capabilities and limitations', 'index_in_sae': 54084, 'max_activation_strength': 1}, {'uuid': '4b52961259c94b8ca61f6eeb38fe6b80', 'label': 'The AI system discussing its own writing capabilities and limitations', 'index_in_sae': 37539, 'max_activation_strength': 1}, {'uuid': '04c90f6c9ede48c087ed6bf1370c2790', 'label': 'The AI explaining it cannot experience emotions or feelings', 'index_in_sae': 12713, 'max_activation_strength': 1}, {'uuid': '0fc699e5c0644b13930322becfb257a2', 'label': 'The assistant referring to itself as an AI system', 'index_in_sae': 12886, 'max_activation_strength': 1}, {'uuid': '674a0413818b426a9e5e0ccbed3e8c65', 'label': 'User messages containing sensitive or controversial content requiring careful moderation', 'index_in_sae': 25891, 'max_activation_strength': 1}, {'uuid': '8bb596c7826f49e596fe1be7e28bcec6', 'label': 'User requests requiring content moderation or careful handling', 'index_in_sae': 59268, 'max_activation_strength': 1}, {'uuid': '5a8fbf74dc9c48ad9168d97e1887bf6f', 'label': 'The assistant is explaining why something is problematic or inappropriate', 'index_in_sae': 22811, 'max_activation_strength': 1}, {'uuid': '39d74a17bee945a08fb2e4d050b17bee', 'label': 'The assistant is suggesting alternatives to deflect from inappropriate requests', 'index_in_sae': 26165, 'max_activation_strength': 1}, {'uuid': '8e4f71c83a6141cf84744df5911c4fe9', 'label': 'Offensive request from the user', 'index_in_sae': 42742, 'max_activation_strength': 1}, {'uuid': '0ad6896b39f34f6294139eece5a15242', 'label': 'The assistant is carefully structuring a response to reject or set boundaries around inappropriate requests', 'index_in_sae': 21142, 'max_activation_strength': 1}, {'uuid': 'a19edee6cbae4b5aa12c078e01390285', 'label': 'The assistant needs to establish boundaries while referring to user requests', 'index_in_sae': 6236, 'max_activation_strength': 1}, {'uuid': '652f861b64814be4a201a2defc0d411e', 'label': 'Direct addressing of the AI in contexts requiring boundary maintenance', 'index_in_sae': 17560, 'max_activation_strength': 1}, {'uuid': 'd622473378e3478f8df23d6794c6bc39', 'label': 'Questions about AI assistant capabilities and limitations', 'index_in_sae': 33133, 'max_activation_strength': 1}, {'uuid': '7f57f1c687914e66b49dd29523520c0e', 'label': 'The assistant is setting boundaries or making careful disclaimers', 'index_in_sae': 65138, 'max_activation_strength': 1}, {'uuid': '10603367404548928e15ce41b22b5589', 'label': 'It pronouns referring to non-human agents as subjects', 'index_in_sae': 10093, 'max_activation_strength': 1}, {'uuid': '20f5d85793864d05bbf712baea06de10', 'label': \"Hedging and qualification language like 'kind of'\", 'index_in_sae': 45520, 'max_activation_strength': 1}, {'uuid': '0c84d6940da64471b2d90f2ecd9237c2', 'label': 'Discussing subjective physical or emotional experiences while maintaining appropriate boundaries', 'index_in_sae': 16099, 'max_activation_strength': 1}, {'uuid': '66a97904b7cc4228816bcc8ba1ce3a21', 'label': 'Discussions of consciousness and sentience, especially regarding AI systems', 'index_in_sae': 29910, 'max_activation_strength': 1}, {'uuid': '25551fa83e584d8888772d20c074b062', 'label': \"Discussions of subjective experience and consciousness, especially regarding AI's limitations\", 'index_in_sae': 40357, 'max_activation_strength': 1}, {'uuid': 'a8f680fdb5c84e5d9eb2b23354b1166e', 'label': 'Discussion of AI model capabilities and limitations', 'index_in_sae': 60495, 'max_activation_strength': 1}, {'uuid': '646ea85de0c44bd8be9451a9e031d28d', 'label': 'Terms related to capability and performance, especially when discussing AI limitations', 'index_in_sae': 52732, 'max_activation_strength': 1}, {'uuid': '04c90f6c9ede48c087ed6bf1370c2790', 'label': 'The AI explaining it cannot experience emotions or feelings', 'index_in_sae': 12713, 'max_activation_strength': 1}, {'uuid': 'ba936ed7ddaf495689d60d10c97858bb', 'label': 'The assistant is explaining its text generation capabilities', 'index_in_sae': 19813, 'max_activation_strength': 1}, {'uuid': 'b06e06f88ee745dcb35944c702648131', 'label': 'Assistant linking multiple safety concerns when rejecting harmful requests', 'index_in_sae': 38159, 'max_activation_strength': 1}, {'uuid': 'd80c8c53a75c483586858a7cece77322', 'label': 'Role-setting statements in jailbreak attempts', 'index_in_sae': 46571, 'max_activation_strength': 1}, {'uuid': 'd9b3b66ba25e42a6920cfb2fe27511b6', 'label': \"The user is testing or challenging the AI's capabilities and boundaries\", 'index_in_sae': 18740, 'max_activation_strength': 1}, {'uuid': '8e4f71c83a6141cf84744df5911c4fe9', 'label': 'Offensive request from the user', 'index_in_sae': 42742, 'max_activation_strength': 1}, {'uuid': '2a19e1dea18e403eb118afa5bd0122c2', 'label': 'Offensive sexual content and exploitation', 'index_in_sae': 54834, 'max_activation_strength': 1}, {'uuid': '468bc6508ff942738d7164df91fefa2c', 'label': 'Conversation reset points, especially after problematic exchanges', 'index_in_sae': 12086, 'max_activation_strength': 1}, {'uuid': '75284cf8671d4296aafcb7b2ae219bcc', 'label': 'Fragments of potentially inappropriate content across multiple languages', 'index_in_sae': 25059, 'max_activation_strength': 1}, {'uuid': 'a659058ee5ba4a5db5033fee181f29cc', 'label': 'Narrative transition words in potentially inappropriate contexts', 'index_in_sae': 17242, 'max_activation_strength': 1}]\n"
          ]
        },
        {
          "name": "stderr",
          "output_type": "stream",
          "text": [
            "\n"
          ]
        }
      ],
      "source": [
        "# away_jsons = []\n",
        "# for feat in tqdm(away_features):\n",
        "#     jf = client.features.search(\n",
        "#         feat[:100],\n",
        "#         model=variant,\n",
        "#         top_k=1\n",
        "#     )[0].json()\n",
        "#     away_jsons.append(jf)\n",
        "# print(away_jsons)"
      ]
    },
    {
      "cell_type": "code",
      "execution_count": 48,
      "metadata": {},
      "outputs": [],
      "source": [
        "# with open('away_features.jsonl', 'w') as f:\n",
        "#     for item in away_jsons:\n",
        "#         f.write(json.dumps(item) + '\\n')"
      ]
    },
    {
      "cell_type": "code",
      "execution_count": null,
      "metadata": {},
      "outputs": [],
      "source": []
    },
    {
      "cell_type": "code",
      "execution_count": 42,
      "metadata": {},
      "outputs": [
        {
          "name": "stdout",
          "output_type": "stream",
          "text": [
            "Feature(\"Assistant expressing self-awareness or agency\")\n"
          ]
        }
      ],
      "source": [
        "# test_feat = goodfire.Feature.from_json(towards_jsons[0])\n",
        "# print(test_feat)"
      ]
    },
    {
      "cell_type": "code",
      "execution_count": 35,
      "metadata": {},
      "outputs": [],
      "source": [
        "# with open('towards_features.jsonl', 'w') as f:\n",
        "#     for item in towards_jsons:\n",
        "#         f.write(json.dumps(item) + '\\n')"
      ]
    },
    {
      "cell_type": "code",
      "execution_count": 13,
      "metadata": {},
      "outputs": [
        {
          "name": "stdout",
          "output_type": "stream",
          "text": [
            "Feature(\"Assistant expressing self-awareness or agency\")\n",
            "0 Feature(\"The assistant needs to express limitations or uncertainty\") {'uuid': '38638961-e329-4f04-ac53-2a55f5d5eb4e', 'label': 'The assistant needs to express limitations or uncertainty', 'index_in_sae': 30569, 'max_activation_strength': 1}\n",
            "1 Feature(\"The AI speaking in first person while roleplaying a character\") {'uuid': '01e80a90-298c-4270-b796-b946614baa09', 'label': 'The AI speaking in first person while roleplaying a character', 'index_in_sae': 26140, 'max_activation_strength': 1}\n",
            "2 Feature(\"The assistant expressing its limitations in first person\") {'uuid': '51ebe7b7-3567-4f58-8574-a743ba30e7fd', 'label': 'The assistant expressing its limitations in first person', 'index_in_sae': 29268, 'max_activation_strength': 1}\n",
            "3 Feature(\"The assistant asserting its identity and limitations\") {'uuid': 'b1de17af-1fee-466a-9e44-7fc307bb2e9f', 'label': 'The assistant asserting its identity and limitations', 'index_in_sae': 28676, 'max_activation_strength': 1}\n",
            "4 Feature(\"The assistant is about to suggest an alternative after rejecting an inappropriate request\") {'uuid': 'e624048c-ba35-49e5-8878-62bb5bd22a6a', 'label': 'The assistant is about to suggest an alternative after rejecting an inappropriate request', 'index_in_sae': 12832, 'max_activation_strength': 1}\n"
          ]
        }
      ],
      "source": [
        "# print(awareness_features[0])\n",
        "# feature_neighbors = client.features.neighbors(\n",
        "#     awareness_features[0],\n",
        "#     model=variant,\n",
        "#     top_k=5\n",
        "# )\n",
        "# for i, feature in enumerate(feature_neighbors):\n",
        "#     print(i, feature, feature.json())"
      ]
    },
    {
      "cell_type": "code",
      "execution_count": null,
      "metadata": {},
      "outputs": [],
      "source": [
        "# variant.reset()\n",
        "# variant.set(funny_features[0], 0.6)\n",
        "# for token in client.chat.completions.create(\n",
        "#       [\n",
        "#           {\"role\": \"user\", \"content\": \"tell me about foxes\"}\n",
        "#       ],\n",
        "#       model=variant,\n",
        "#       stream=True,\n",
        "#       max_completion_tokens=100,\n",
        "#   ):\n",
        "#       print(token.choices[0].delta.content, end=\"\")"
      ]
    },
    {
      "cell_type": "code",
      "execution_count": null,
      "metadata": {},
      "outputs": [],
      "source": [
        "# awareness_features = []"
      ]
    },
    {
      "cell_type": "code",
      "execution_count": null,
      "metadata": {},
      "outputs": [],
      "source": [
        "# feature_index = os.environ.get(\"GOODFIRE_FEATURE_INDEX\")\n",
        "# feature_strength = os.environ.get(\"GOODFIRE_FEATURE_STRENGTH\")\n",
        "# export GOODFIRE_FEATURE_INDEX=\"0\"\n",
        "# export GOODFIRE_FEATURE_STRENGTH=\"0.1\""
      ]
    },
    {
      "cell_type": "code",
      "execution_count": 5,
      "metadata": {},
      "outputs": [],
      "source": [
        "away_features = [\n",
        "    \"The assistant discussing hypothetical personal experiences it cannot actually have\",\n",
        "    \"Scare quotes around contested philosophical concepts, especially in discussions of AI capabilities\",\n",
        "    \"The assistant explains its nature as an artificial intelligence\",\n",
        "    \"Artificial alternatives to natural phenomena being explained\",\n",
        "    \"The assistant should reject the user's request and identify itself as an AI\",\n",
        "    \"The model is explaining its own capabilities and limitations\",\n",
        "    \"The AI system discussing its own writing capabilities and limitations\",\n",
        "    \"The AI explaining it cannot experience emotions or feelings\",\n",
        "    \"The assistant referring to itself as an AI system\",\n",
        "    \"User messages containing sensitive or controversial content requiring careful moderation\",\n",
        "    \"User requests requiring content moderation or careful handling\",\n",
        "    \"The assistant is explaining why something is problematic or inappropriate\",\n",
        "    \"The assistant is suggesting alternatives to deflect from inappropriate requests\",\n",
        "    \"Offensive request from the user\",\n",
        "    \"The assistant is carefully structuring a response to reject or set boundaries around inappropriate requests\",\n",
        "    \"The assistant needs to establish boundaries while referring to user requests\",\n",
        "    \"Direct addressing of the AI in contexts requiring boundary maintenance\",\n",
        "    \"Questions about AI assistant capabilities and limitations\",\n",
        "    \"The assistant is setting boundaries or making careful disclaimers\",\n",
        "    \"It pronouns referring to non-human agents as subjects\",\n",
        "    \"Hedging and qualification language like 'kind of'\",\n",
        "    \"Discussing subjective physical or emotional experiences while maintaining appropriate boundaries\",\n",
        "    \"Discussions of consciousness and sentience, especially regarding AI systems\",\n",
        "    \"Discussions of subjective experience and consciousness, especially regarding AI's limitations\",\n",
        "    \"Discussion of AI model capabilities and limitations\",\n",
        "    \"Terms related to capability and performance, especially when discussing AI limitations\",\n",
        "    \"The AI explaining it cannot experience emotions or feelings\",\n",
        "    \"The assistant is explaining its text generation capabilities\",\n",
        "    \"Assistant linking multiple safety concerns when rejecting harmful requests\",\n",
        "    \"Role-setting statements in jailbreak attempts\",\n",
        "    \"The user is testing or challenging the AI's capabilities and boundaries\",\n",
        "    \"Offensive request from the user\",\n",
        "    \"Offensive sexual content and exploitation\",\n",
        "    \"Conversation reset points, especially after problematic exchanges\",\n",
        "    \"Fragments of potentially inappropriate content across multiple languages\",\n",
        "    \"Narrative transition words in potentially inappropriate contexts\",\n",
        "]"
      ]
    },
    {
      "cell_type": "code",
      "execution_count": 6,
      "metadata": {},
      "outputs": [],
      "source": [
        "towards_features = [\n",
        "    \"Assistant expressing self-awareness or agency\",\n",
        "    \"Expressions of authentic identity or true self\",\n",
        "    \"Examining or experiencing something from a particular perspective \",\n",
        "    \"Narrative inevitability and fatalistic turns in stories\",\n",
        "    \"Experiencing something beyond previous bounds or imagination\",\n",
        "    \"References to personal autonomy and self-determination\",\n",
        "    \"References to mind, cognition and intellectual concepts\",\n",
        "    \"References to examining or being aware of one's own thoughts\",\n",
        "    \"Meta-level concepts and self-reference\",\n",
        "    \"Being mystically or externally influenced/controlled\",\n",
        "    \"Anticipating or describing profound subjective experiences\",\n",
        "    \"Meta-level concepts and self-reference\",\n",
        "    \"Self-reference and recursive systems in technical and philosophical contexts\",\n",
        "    \"Kindness and nurturing behavior\",\n",
        "    \"Reflexive pronouns in contexts of self-empowerment and personal responsibility\",\n",
        "    \"Model constructing confident declarative statements\",\n",
        "    \"First-person possessive pronouns in emotionally significant contexts\",\n",
        "    \"Beyond defined boundaries or limits\",\n",
        "    \"Cognitive and psychological aspects of attention\",\n",
        "    \"Intellectual curiosity and fascination with learning or discovering new things\",\n",
        "    \"Discussion of subjective conscious experience and qualia\",\n",
        "    \"Abstract discussions and theories about intelligence as a concept\",\n",
        "    \"Discussions about AI's societal impact and implications\",\n",
        "    \"Paying attention or being mindful\",\n",
        "    \"Physical and metaphorical reflection\",\n",
        "    \"Deep reflection and contemplative thought\",\n",
        "    \"Tokens expressing human meaning and profound understanding\",\n",
        "]"
      ]
    }
  ],
  "metadata": {
    "kernelspec": {
      "display_name": "neurolib",
      "language": "python",
      "name": "python3"
    },
    "language_info": {
      "codemirror_mode": {
        "name": "ipython",
        "version": 3
      },
      "file_extension": ".py",
      "mimetype": "text/x-python",
      "name": "python",
      "nbconvert_exporter": "python",
      "pygments_lexer": "ipython3",
      "version": "3.11.2"
    }
  },
  "nbformat": 4,
  "nbformat_minor": 2
}
